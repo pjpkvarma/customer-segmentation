{
 "cells": [
  {
   "cell_type": "code",
   "execution_count": 1,
   "metadata": {},
   "outputs": [],
   "source": [
    "#importing required libraries\n",
    "\n",
    "import pandas as pd\n",
    "import numpy as np\n",
    "\n",
    "import time\n",
    "import datetime as dt\n",
    "\n",
    "import matplotlib.pyplot as plt\n",
    "%matplotlib inline\n",
    "import seaborn as sns\n",
    "\n",
    "import warnings\n",
    "warnings.filterwarnings('ignore')"
   ]
  },
  {
   "cell_type": "code",
   "execution_count": 2,
   "metadata": {},
   "outputs": [],
   "source": [
    "#load data\n",
    "\n",
    "df = pd.read_csv('transaction_data.csv', encoding='unicode_escape')"
   ]
  },
  {
   "cell_type": "code",
   "execution_count": 3,
   "metadata": {},
   "outputs": [
    {
     "data": {
      "text/plain": [
       "(1083818, 8)"
      ]
     },
     "execution_count": 3,
     "metadata": {},
     "output_type": "execute_result"
    }
   ],
   "source": [
    "#shape of data\n",
    "df.shape"
   ]
  },
  {
   "cell_type": "code",
   "execution_count": 4,
   "metadata": {},
   "outputs": [
    {
     "data": {
      "text/html": [
       "<div>\n",
       "<style scoped>\n",
       "    .dataframe tbody tr th:only-of-type {\n",
       "        vertical-align: middle;\n",
       "    }\n",
       "\n",
       "    .dataframe tbody tr th {\n",
       "        vertical-align: top;\n",
       "    }\n",
       "\n",
       "    .dataframe thead th {\n",
       "        text-align: right;\n",
       "    }\n",
       "</style>\n",
       "<table border=\"1\" class=\"dataframe\">\n",
       "  <thead>\n",
       "    <tr style=\"text-align: right;\">\n",
       "      <th></th>\n",
       "      <th>UserId</th>\n",
       "      <th>TransactionId</th>\n",
       "      <th>TransactionTime</th>\n",
       "      <th>ItemCode</th>\n",
       "      <th>ItemDescription</th>\n",
       "      <th>NumberOfItemsPurchased</th>\n",
       "      <th>CostPerItem</th>\n",
       "      <th>Country</th>\n",
       "    </tr>\n",
       "  </thead>\n",
       "  <tbody>\n",
       "    <tr>\n",
       "      <th>0</th>\n",
       "      <td>278166</td>\n",
       "      <td>6355745</td>\n",
       "      <td>Sat Feb 02 12:50:00 IST 2019</td>\n",
       "      <td>465549</td>\n",
       "      <td>FAMILY ALBUM WHITE PICTURE FRAME</td>\n",
       "      <td>6</td>\n",
       "      <td>11.73</td>\n",
       "      <td>United Kingdom</td>\n",
       "    </tr>\n",
       "    <tr>\n",
       "      <th>1</th>\n",
       "      <td>337701</td>\n",
       "      <td>6283376</td>\n",
       "      <td>Wed Dec 26 09:06:00 IST 2018</td>\n",
       "      <td>482370</td>\n",
       "      <td>LONDON BUS COFFEE MUG</td>\n",
       "      <td>3</td>\n",
       "      <td>3.52</td>\n",
       "      <td>United Kingdom</td>\n",
       "    </tr>\n",
       "    <tr>\n",
       "      <th>2</th>\n",
       "      <td>267099</td>\n",
       "      <td>6385599</td>\n",
       "      <td>Fri Feb 15 09:45:00 IST 2019</td>\n",
       "      <td>490728</td>\n",
       "      <td>SET 12 COLOUR PENCILS DOLLY GIRL</td>\n",
       "      <td>72</td>\n",
       "      <td>0.90</td>\n",
       "      <td>France</td>\n",
       "    </tr>\n",
       "    <tr>\n",
       "      <th>3</th>\n",
       "      <td>380478</td>\n",
       "      <td>6044973</td>\n",
       "      <td>Fri Jun 22 07:14:00 IST 2018</td>\n",
       "      <td>459186</td>\n",
       "      <td>UNION JACK FLAG LUGGAGE TAG</td>\n",
       "      <td>3</td>\n",
       "      <td>1.73</td>\n",
       "      <td>United Kingdom</td>\n",
       "    </tr>\n",
       "    <tr>\n",
       "      <th>4</th>\n",
       "      <td>-1</td>\n",
       "      <td>6143225</td>\n",
       "      <td>Mon Sep 10 11:58:00 IST 2018</td>\n",
       "      <td>1733592</td>\n",
       "      <td>WASHROOM METAL SIGN</td>\n",
       "      <td>3</td>\n",
       "      <td>3.40</td>\n",
       "      <td>United Kingdom</td>\n",
       "    </tr>\n",
       "  </tbody>\n",
       "</table>\n",
       "</div>"
      ],
      "text/plain": [
       "   UserId  TransactionId               TransactionTime  ItemCode  \\\n",
       "0  278166        6355745  Sat Feb 02 12:50:00 IST 2019    465549   \n",
       "1  337701        6283376  Wed Dec 26 09:06:00 IST 2018    482370   \n",
       "2  267099        6385599  Fri Feb 15 09:45:00 IST 2019    490728   \n",
       "3  380478        6044973  Fri Jun 22 07:14:00 IST 2018    459186   \n",
       "4      -1        6143225  Mon Sep 10 11:58:00 IST 2018   1733592   \n",
       "\n",
       "                     ItemDescription  NumberOfItemsPurchased  CostPerItem  \\\n",
       "0   FAMILY ALBUM WHITE PICTURE FRAME                       6        11.73   \n",
       "1              LONDON BUS COFFEE MUG                       3         3.52   \n",
       "2  SET 12 COLOUR PENCILS DOLLY GIRL                       72         0.90   \n",
       "3        UNION JACK FLAG LUGGAGE TAG                       3         1.73   \n",
       "4                WASHROOM METAL SIGN                       3         3.40   \n",
       "\n",
       "          Country  \n",
       "0  United Kingdom  \n",
       "1  United Kingdom  \n",
       "2          France  \n",
       "3  United Kingdom  \n",
       "4  United Kingdom  "
      ]
     },
     "execution_count": 4,
     "metadata": {},
     "output_type": "execute_result"
    }
   ],
   "source": [
    "df.head()"
   ]
  },
  {
   "cell_type": "markdown",
   "metadata": {},
   "source": [
    "## Data Cleaning..."
   ]
  },
  {
   "cell_type": "code",
   "execution_count": 5,
   "metadata": {},
   "outputs": [
    {
     "name": "stdout",
     "output_type": "stream",
     "text": [
      "<class 'pandas.core.frame.DataFrame'>\n",
      "RangeIndex: 1083818 entries, 0 to 1083817\n",
      "Data columns (total 8 columns):\n",
      " #   Column                  Non-Null Count    Dtype  \n",
      "---  ------                  --------------    -----  \n",
      " 0   UserId                  1083818 non-null  int64  \n",
      " 1   TransactionId           1083818 non-null  int64  \n",
      " 2   TransactionTime         1083818 non-null  object \n",
      " 3   ItemCode                1083818 non-null  int64  \n",
      " 4   ItemDescription         1080910 non-null  object \n",
      " 5   NumberOfItemsPurchased  1083818 non-null  int64  \n",
      " 6   CostPerItem             1083818 non-null  float64\n",
      " 7   Country                 1083818 non-null  object \n",
      "dtypes: float64(1), int64(4), object(3)\n",
      "memory usage: 66.2+ MB\n"
     ]
    }
   ],
   "source": [
    "df.info()"
   ]
  },
  {
   "cell_type": "code",
   "execution_count": 6,
   "metadata": {},
   "outputs": [],
   "source": [
    "#let's create new data_time column from TransationTime\n",
    "list1 = {}\n",
    "for i in range(len(df['TransactionTime'])):\n",
    "    list1[i]=df['TransactionTime'][i].split(' ')\n",
    "\n",
    "Week_day=[]\n",
    "datetime=[]\n",
    "\n",
    "for key,value in list1.items():\n",
    "    Week_day.append(value[0])\n",
    "    datetime.append(value[5]+'/'+value[1]+'/'+value[2]+\" \"+value[3])\n",
    "df['Date_Time']=datetime"
   ]
  },
  {
   "cell_type": "code",
   "execution_count": 7,
   "metadata": {},
   "outputs": [],
   "source": [
    "#converting object type column to datetime column\n",
    "df['Date_Time']=pd.to_datetime(df['Date_Time'],errors='coerce')"
   ]
  },
  {
   "cell_type": "code",
   "execution_count": 8,
   "metadata": {},
   "outputs": [
    {
     "data": {
      "text/html": [
       "<div>\n",
       "<style scoped>\n",
       "    .dataframe tbody tr th:only-of-type {\n",
       "        vertical-align: middle;\n",
       "    }\n",
       "\n",
       "    .dataframe tbody tr th {\n",
       "        vertical-align: top;\n",
       "    }\n",
       "\n",
       "    .dataframe thead th {\n",
       "        text-align: right;\n",
       "    }\n",
       "</style>\n",
       "<table border=\"1\" class=\"dataframe\">\n",
       "  <thead>\n",
       "    <tr style=\"text-align: right;\">\n",
       "      <th></th>\n",
       "      <th>UserId</th>\n",
       "      <th>TransactionId</th>\n",
       "      <th>TransactionTime</th>\n",
       "      <th>ItemCode</th>\n",
       "      <th>ItemDescription</th>\n",
       "      <th>NumberOfItemsPurchased</th>\n",
       "      <th>CostPerItem</th>\n",
       "      <th>Country</th>\n",
       "      <th>Date_Time</th>\n",
       "    </tr>\n",
       "  </thead>\n",
       "  <tbody>\n",
       "    <tr>\n",
       "      <th>0</th>\n",
       "      <td>278166</td>\n",
       "      <td>6355745</td>\n",
       "      <td>Sat Feb 02 12:50:00 IST 2019</td>\n",
       "      <td>465549</td>\n",
       "      <td>FAMILY ALBUM WHITE PICTURE FRAME</td>\n",
       "      <td>6</td>\n",
       "      <td>11.73</td>\n",
       "      <td>United Kingdom</td>\n",
       "      <td>2019-02-02 12:50:00</td>\n",
       "    </tr>\n",
       "    <tr>\n",
       "      <th>1</th>\n",
       "      <td>337701</td>\n",
       "      <td>6283376</td>\n",
       "      <td>Wed Dec 26 09:06:00 IST 2018</td>\n",
       "      <td>482370</td>\n",
       "      <td>LONDON BUS COFFEE MUG</td>\n",
       "      <td>3</td>\n",
       "      <td>3.52</td>\n",
       "      <td>United Kingdom</td>\n",
       "      <td>2018-12-26 09:06:00</td>\n",
       "    </tr>\n",
       "    <tr>\n",
       "      <th>2</th>\n",
       "      <td>267099</td>\n",
       "      <td>6385599</td>\n",
       "      <td>Fri Feb 15 09:45:00 IST 2019</td>\n",
       "      <td>490728</td>\n",
       "      <td>SET 12 COLOUR PENCILS DOLLY GIRL</td>\n",
       "      <td>72</td>\n",
       "      <td>0.90</td>\n",
       "      <td>France</td>\n",
       "      <td>2019-02-15 09:45:00</td>\n",
       "    </tr>\n",
       "    <tr>\n",
       "      <th>3</th>\n",
       "      <td>380478</td>\n",
       "      <td>6044973</td>\n",
       "      <td>Fri Jun 22 07:14:00 IST 2018</td>\n",
       "      <td>459186</td>\n",
       "      <td>UNION JACK FLAG LUGGAGE TAG</td>\n",
       "      <td>3</td>\n",
       "      <td>1.73</td>\n",
       "      <td>United Kingdom</td>\n",
       "      <td>2018-06-22 07:14:00</td>\n",
       "    </tr>\n",
       "    <tr>\n",
       "      <th>4</th>\n",
       "      <td>-1</td>\n",
       "      <td>6143225</td>\n",
       "      <td>Mon Sep 10 11:58:00 IST 2018</td>\n",
       "      <td>1733592</td>\n",
       "      <td>WASHROOM METAL SIGN</td>\n",
       "      <td>3</td>\n",
       "      <td>3.40</td>\n",
       "      <td>United Kingdom</td>\n",
       "      <td>2018-09-10 11:58:00</td>\n",
       "    </tr>\n",
       "  </tbody>\n",
       "</table>\n",
       "</div>"
      ],
      "text/plain": [
       "   UserId  TransactionId               TransactionTime  ItemCode  \\\n",
       "0  278166        6355745  Sat Feb 02 12:50:00 IST 2019    465549   \n",
       "1  337701        6283376  Wed Dec 26 09:06:00 IST 2018    482370   \n",
       "2  267099        6385599  Fri Feb 15 09:45:00 IST 2019    490728   \n",
       "3  380478        6044973  Fri Jun 22 07:14:00 IST 2018    459186   \n",
       "4      -1        6143225  Mon Sep 10 11:58:00 IST 2018   1733592   \n",
       "\n",
       "                     ItemDescription  NumberOfItemsPurchased  CostPerItem  \\\n",
       "0   FAMILY ALBUM WHITE PICTURE FRAME                       6        11.73   \n",
       "1              LONDON BUS COFFEE MUG                       3         3.52   \n",
       "2  SET 12 COLOUR PENCILS DOLLY GIRL                       72         0.90   \n",
       "3        UNION JACK FLAG LUGGAGE TAG                       3         1.73   \n",
       "4                WASHROOM METAL SIGN                       3         3.40   \n",
       "\n",
       "          Country           Date_Time  \n",
       "0  United Kingdom 2019-02-02 12:50:00  \n",
       "1  United Kingdom 2018-12-26 09:06:00  \n",
       "2          France 2019-02-15 09:45:00  \n",
       "3  United Kingdom 2018-06-22 07:14:00  \n",
       "4  United Kingdom 2018-09-10 11:58:00  "
      ]
     },
     "execution_count": 8,
     "metadata": {},
     "output_type": "execute_result"
    }
   ],
   "source": [
    "#verifying date_time column\n",
    "df.head()"
   ]
  },
  {
   "cell_type": "code",
   "execution_count": 9,
   "metadata": {},
   "outputs": [
    {
     "data": {
      "text/html": [
       "<div>\n",
       "<style scoped>\n",
       "    .dataframe tbody tr th:only-of-type {\n",
       "        vertical-align: middle;\n",
       "    }\n",
       "\n",
       "    .dataframe tbody tr th {\n",
       "        vertical-align: top;\n",
       "    }\n",
       "\n",
       "    .dataframe thead th {\n",
       "        text-align: right;\n",
       "    }\n",
       "</style>\n",
       "<table border=\"1\" class=\"dataframe\">\n",
       "  <thead>\n",
       "    <tr style=\"text-align: right;\">\n",
       "      <th></th>\n",
       "      <th>UserId</th>\n",
       "      <th>TransactionId</th>\n",
       "      <th>ItemCode</th>\n",
       "      <th>ItemDescription</th>\n",
       "      <th>NumberOfItemsPurchased</th>\n",
       "      <th>CostPerItem</th>\n",
       "      <th>Country</th>\n",
       "      <th>Date_Time</th>\n",
       "      <th>Week_day</th>\n",
       "    </tr>\n",
       "  </thead>\n",
       "  <tbody>\n",
       "    <tr>\n",
       "      <th>0</th>\n",
       "      <td>278166</td>\n",
       "      <td>6355745</td>\n",
       "      <td>465549</td>\n",
       "      <td>FAMILY ALBUM WHITE PICTURE FRAME</td>\n",
       "      <td>6</td>\n",
       "      <td>11.73</td>\n",
       "      <td>United Kingdom</td>\n",
       "      <td>2019-02-02 12:50:00</td>\n",
       "      <td>Sat</td>\n",
       "    </tr>\n",
       "    <tr>\n",
       "      <th>1</th>\n",
       "      <td>337701</td>\n",
       "      <td>6283376</td>\n",
       "      <td>482370</td>\n",
       "      <td>LONDON BUS COFFEE MUG</td>\n",
       "      <td>3</td>\n",
       "      <td>3.52</td>\n",
       "      <td>United Kingdom</td>\n",
       "      <td>2018-12-26 09:06:00</td>\n",
       "      <td>Wed</td>\n",
       "    </tr>\n",
       "    <tr>\n",
       "      <th>2</th>\n",
       "      <td>267099</td>\n",
       "      <td>6385599</td>\n",
       "      <td>490728</td>\n",
       "      <td>SET 12 COLOUR PENCILS DOLLY GIRL</td>\n",
       "      <td>72</td>\n",
       "      <td>0.90</td>\n",
       "      <td>France</td>\n",
       "      <td>2019-02-15 09:45:00</td>\n",
       "      <td>Fri</td>\n",
       "    </tr>\n",
       "    <tr>\n",
       "      <th>3</th>\n",
       "      <td>380478</td>\n",
       "      <td>6044973</td>\n",
       "      <td>459186</td>\n",
       "      <td>UNION JACK FLAG LUGGAGE TAG</td>\n",
       "      <td>3</td>\n",
       "      <td>1.73</td>\n",
       "      <td>United Kingdom</td>\n",
       "      <td>2018-06-22 07:14:00</td>\n",
       "      <td>Fri</td>\n",
       "    </tr>\n",
       "    <tr>\n",
       "      <th>4</th>\n",
       "      <td>-1</td>\n",
       "      <td>6143225</td>\n",
       "      <td>1733592</td>\n",
       "      <td>WASHROOM METAL SIGN</td>\n",
       "      <td>3</td>\n",
       "      <td>3.40</td>\n",
       "      <td>United Kingdom</td>\n",
       "      <td>2018-09-10 11:58:00</td>\n",
       "      <td>Mon</td>\n",
       "    </tr>\n",
       "  </tbody>\n",
       "</table>\n",
       "</div>"
      ],
      "text/plain": [
       "   UserId  TransactionId  ItemCode                    ItemDescription  \\\n",
       "0  278166        6355745    465549   FAMILY ALBUM WHITE PICTURE FRAME   \n",
       "1  337701        6283376    482370              LONDON BUS COFFEE MUG   \n",
       "2  267099        6385599    490728  SET 12 COLOUR PENCILS DOLLY GIRL    \n",
       "3  380478        6044973    459186        UNION JACK FLAG LUGGAGE TAG   \n",
       "4      -1        6143225   1733592                WASHROOM METAL SIGN   \n",
       "\n",
       "   NumberOfItemsPurchased  CostPerItem         Country           Date_Time  \\\n",
       "0                       6        11.73  United Kingdom 2019-02-02 12:50:00   \n",
       "1                       3         3.52  United Kingdom 2018-12-26 09:06:00   \n",
       "2                      72         0.90          France 2019-02-15 09:45:00   \n",
       "3                       3         1.73  United Kingdom 2018-06-22 07:14:00   \n",
       "4                       3         3.40  United Kingdom 2018-09-10 11:58:00   \n",
       "\n",
       "  Week_day  \n",
       "0      Sat  \n",
       "1      Wed  \n",
       "2      Fri  \n",
       "3      Fri  \n",
       "4      Mon  "
      ]
     },
     "execution_count": 9,
     "metadata": {},
     "output_type": "execute_result"
    }
   ],
   "source": [
    "#we can also add a week_day column and drop TransactionTime column\n",
    "#only IST time Zone is used. so we can ignore it\n",
    "\n",
    "#adding week_day column to our dataframe\n",
    "df['Week_day']=Week_day\n",
    "df.drop('TransactionTime',axis=1,inplace=True)\n",
    "df.head()"
   ]
  },
  {
   "cell_type": "markdown",
   "metadata": {},
   "source": [
    "### we should take care that:\n",
    "* UserId never negative or should be a real value\n",
    "* NumberOfItemsPurchased cannot be negative\n",
    "* CostPerItem cannot be negative\n"
   ]
  },
  {
   "cell_type": "code",
   "execution_count": 10,
   "metadata": {},
   "outputs": [
    {
     "name": "stdout",
     "output_type": "stream",
     "text": [
      "0 TransactionIds don't have a Userid\n"
     ]
    }
   ],
   "source": [
    "print('{:,} TransactionIds don\\'t have a Userid'.format(df[df.UserId.isnull()].shape[0]))"
   ]
  },
  {
   "cell_type": "code",
   "execution_count": 11,
   "metadata": {},
   "outputs": [
    {
     "name": "stdout",
     "output_type": "stream",
     "text": [
      "Orders from 2018-02-12 04:26:00 to 2028-02-18 14:36:00\n"
     ]
    }
   ],
   "source": [
    "print('Orders from {} to {}'.format(df['Date_Time'].min(),\n",
    "                                    df['Date_Time'].max()))"
   ]
  },
  {
   "cell_type": "markdown",
   "metadata": {},
   "source": [
    "### The dataset contains transactions on an e-commerce website between the period Feb 2018 to Feb 2019 from customers across different countries. \n",
    "* so, that samples with year 2028 can be wrongly entered and we can remove them"
   ]
  },
  {
   "cell_type": "code",
   "execution_count": 12,
   "metadata": {},
   "outputs": [
    {
     "data": {
      "text/plain": [
       "<matplotlib.axes._subplots.AxesSubplot at 0x18f20cb0688>"
      ]
     },
     "execution_count": 12,
     "metadata": {},
     "output_type": "execute_result"
    },
    {
     "data": {
      "image/png": "[encoded data removed]",
      "text/plain": [
       "<Figure size 432x288 with 1 Axes>"
      ]
     },
     "metadata": {
      "needs_background": "light"
     },
     "output_type": "display_data"
    }
   ],
   "source": [
    "df['Date_Time'].dt.year.value_counts().plot(kind=\"bar\")"
   ]
  },
  {
   "cell_type": "code",
   "execution_count": 13,
   "metadata": {},
   "outputs": [],
   "source": [
    "#we have false information, so we can remove it\n",
    "df = df.query('Date_Time.dt.year <= 2019').reset_index(drop=True)"
   ]
  },
  {
   "cell_type": "code",
   "execution_count": 14,
   "metadata": {},
   "outputs": [
    {
     "data": {
      "text/plain": [
       "(1077892, 9)"
      ]
     },
     "execution_count": 14,
     "metadata": {},
     "output_type": "execute_result"
    }
   ],
   "source": [
    "df.shape"
   ]
  },
  {
   "cell_type": "code",
   "execution_count": 15,
   "metadata": {},
   "outputs": [
    {
     "data": {
      "text/plain": [
       "5926"
      ]
     },
     "execution_count": 15,
     "metadata": {},
     "output_type": "execute_result"
    }
   ],
   "source": [
    "1083818-1077892"
   ]
  },
  {
   "cell_type": "code",
   "execution_count": 16,
   "metadata": {},
   "outputs": [
    {
     "data": {
      "text/plain": [
       "2018    810656\n",
       "2019    267236\n",
       "Name: Date_Time, dtype: int64"
      ]
     },
     "execution_count": 16,
     "metadata": {},
     "output_type": "execute_result"
    }
   ],
   "source": [
    "df['Date_Time'].dt.year.value_counts()"
   ]
  },
  {
   "cell_type": "code",
   "execution_count": 17,
   "metadata": {},
   "outputs": [
    {
     "data": {
      "text/plain": [
       "-1"
      ]
     },
     "execution_count": 17,
     "metadata": {},
     "output_type": "execute_result"
    }
   ],
   "source": [
    "#lets check UserId\n",
    "df['UserId'].min()"
   ]
  },
  {
   "cell_type": "code",
   "execution_count": 18,
   "metadata": {},
   "outputs": [],
   "source": [
    "df = df[df['UserId']>0]"
   ]
  },
  {
   "cell_type": "code",
   "execution_count": 19,
   "metadata": {},
   "outputs": [
    {
     "data": {
      "text/plain": [
       "(811392, 9)"
      ]
     },
     "execution_count": 19,
     "metadata": {},
     "output_type": "execute_result"
    }
   ],
   "source": [
    "df.shape"
   ]
  },
  {
   "cell_type": "code",
   "execution_count": 20,
   "metadata": {},
   "outputs": [
    {
     "data": {
      "text/plain": [
       "259266"
      ]
     },
     "execution_count": 20,
     "metadata": {},
     "output_type": "execute_result"
    }
   ],
   "source": [
    "df['UserId'].min()"
   ]
  },
  {
   "cell_type": "code",
   "execution_count": 21,
   "metadata": {},
   "outputs": [
    {
     "data": {
      "text/plain": [
       "(5900015, -1)"
      ]
     },
     "execution_count": 21,
     "metadata": {},
     "output_type": "execute_result"
    }
   ],
   "source": [
    "#lets check transactionId and Item Codes\n",
    "df['TransactionId'].min(), df['ItemCode'].min()"
   ]
  },
  {
   "cell_type": "code",
   "execution_count": 22,
   "metadata": {},
   "outputs": [],
   "source": [
    "#transactionId is good but not ItemCode\n",
    "df = df[df['ItemCode']>0]"
   ]
  },
  {
   "cell_type": "code",
   "execution_count": 23,
   "metadata": {},
   "outputs": [
    {
     "data": {
      "text/plain": [
       "(807828, 9)"
      ]
     },
     "execution_count": 23,
     "metadata": {},
     "output_type": "execute_result"
    }
   ],
   "source": [
    "df.shape"
   ]
  },
  {
   "cell_type": "code",
   "execution_count": 24,
   "metadata": {},
   "outputs": [],
   "source": [
    "#Number of items purchased must be greater than 0\n",
    "df=df[df['NumberOfItemsPurchased']>0]"
   ]
  },
  {
   "cell_type": "code",
   "execution_count": 25,
   "metadata": {},
   "outputs": [
    {
     "data": {
      "text/plain": [
       "(790792, 9)"
      ]
     },
     "execution_count": 25,
     "metadata": {},
     "output_type": "execute_result"
    }
   ],
   "source": [
    "df.shape"
   ]
  },
  {
   "cell_type": "code",
   "execution_count": 26,
   "metadata": {},
   "outputs": [
    {
     "data": {
      "text/plain": [
       "242985"
      ]
     },
     "execution_count": 26,
     "metadata": {},
     "output_type": "execute_result"
    }
   ],
   "source": [
    "df['NumberOfItemsPurchased'].max()"
   ]
  },
  {
   "cell_type": "code",
   "execution_count": 27,
   "metadata": {},
   "outputs": [
    {
     "data": {
      "text/plain": [
       "1696285.44"
      ]
     },
     "execution_count": 27,
     "metadata": {},
     "output_type": "execute_result"
    }
   ],
   "source": [
    "#cost per item should  not be negative\n",
    "df['CostPerItem'].max()"
   ]
  },
  {
   "cell_type": "code",
   "execution_count": 28,
   "metadata": {},
   "outputs": [
    {
     "data": {
      "text/plain": [
       "United Kingdom          706068\n",
       "Germany                  17286\n",
       "France                   15954\n",
       "EIRE                     14472\n",
       "Spain                     4846\n",
       "Netherlands               4652\n",
       "Belgium                   3870\n",
       "Switzerland               3622\n",
       "Portugal                  2850\n",
       "Australia                 2368\n",
       "Norway                    2098\n",
       "Channel Islands           1494\n",
       "Italy                     1482\n",
       "Finland                   1294\n",
       "Cyprus                    1224\n",
       "Sweden                     856\n",
       "Austria                    768\n",
       "Denmark                    734\n",
       "Poland                     650\n",
       "Japan                      642\n",
       "Israel                     496\n",
       "Unspecified                488\n",
       "Singapore                  430\n",
       "USA                        358\n",
       "Iceland                    302\n",
       "Canada                     300\n",
       "Greece                     284\n",
       "Malta                      218\n",
       "United Arab Emirates       134\n",
       "European Community         114\n",
       "RSA                        114\n",
       "Lebanon                     90\n",
       "Lithuania                   70\n",
       "Brazil                      64\n",
       "Czech Republic              48\n",
       "Bahrain                     34\n",
       "Saudi Arabia                18\n",
       "Name: Country, dtype: int64"
      ]
     },
     "execution_count": 28,
     "metadata": {},
     "output_type": "execute_result"
    }
   ],
   "source": [
    "#let's see how many purchases in each country\n",
    "df['Country'].value_counts()"
   ]
  },
  {
   "cell_type": "markdown",
   "metadata": {},
   "source": [
    "we have lot of purchases in United kingdom compared with other countries"
   ]
  },
  {
   "cell_type": "code",
   "execution_count": 29,
   "metadata": {},
   "outputs": [
    {
     "data": {
      "text/plain": [
       "<matplotlib.axes._subplots.AxesSubplot at 0x18f20f8d088>"
      ]
     },
     "execution_count": 29,
     "metadata": {},
     "output_type": "execute_result"
    },
    {
     "data": {
      "image/png": "[encoded data removed]",
      "text/plain": [
       "<Figure size 1440x720 with 1 Axes>"
      ]
     },
     "metadata": {
      "needs_background": "light"
     },
     "output_type": "display_data"
    }
   ],
   "source": [
    "df['Country'].value_counts().plot(kind='bar', figsize=(20,10))"
   ]
  },
  {
   "cell_type": "markdown",
   "metadata": {},
   "source": [
    "other countries are no match for united kingdom"
   ]
  },
  {
   "cell_type": "markdown",
   "metadata": {},
   "source": [
    "So, we can take the samples from united kingdom only"
   ]
  },
  {
   "cell_type": "code",
   "execution_count": 30,
   "metadata": {},
   "outputs": [],
   "source": [
    "df = df[df['Country']=='United Kingdom']"
   ]
  },
  {
   "cell_type": "code",
   "execution_count": 31,
   "metadata": {},
   "outputs": [
    {
     "data": {
      "text/plain": [
       "(706068, 9)"
      ]
     },
     "execution_count": 31,
     "metadata": {},
     "output_type": "execute_result"
    }
   ],
   "source": [
    "df.shape"
   ]
  },
  {
   "cell_type": "code",
   "execution_count": 32,
   "metadata": {},
   "outputs": [
    {
     "name": "stdout",
     "output_type": "stream",
     "text": [
      "Number of transactions:  16514\n",
      "Number of products purchased:  3185\n",
      "Number of customers: 3912\n"
     ]
    }
   ],
   "source": [
    "print(\"Number of transactions: \", df['TransactionId'].nunique())\n",
    "print(\"Number of products purchased: \",df['ItemCode'].nunique())\n",
    "print(\"Number of customers:\", df['UserId'].nunique() )"
   ]
  },
  {
   "cell_type": "code",
   "execution_count": 33,
   "metadata": {},
   "outputs": [],
   "source": [
    "# adding total price column\n",
    "df['Total_Price']=df['NumberOfItemsPurchased']*df['CostPerItem']"
   ]
  },
  {
   "cell_type": "code",
   "execution_count": 34,
   "metadata": {},
   "outputs": [
    {
     "data": {
      "text/html": [
       "<div>\n",
       "<style scoped>\n",
       "    .dataframe tbody tr th:only-of-type {\n",
       "        vertical-align: middle;\n",
       "    }\n",
       "\n",
       "    .dataframe tbody tr th {\n",
       "        vertical-align: top;\n",
       "    }\n",
       "\n",
       "    .dataframe thead th {\n",
       "        text-align: right;\n",
       "    }\n",
       "</style>\n",
       "<table border=\"1\" class=\"dataframe\">\n",
       "  <thead>\n",
       "    <tr style=\"text-align: right;\">\n",
       "      <th></th>\n",
       "      <th>UserId</th>\n",
       "      <th>TransactionId</th>\n",
       "      <th>ItemCode</th>\n",
       "      <th>ItemDescription</th>\n",
       "      <th>NumberOfItemsPurchased</th>\n",
       "      <th>CostPerItem</th>\n",
       "      <th>Country</th>\n",
       "      <th>Date_Time</th>\n",
       "      <th>Week_day</th>\n",
       "      <th>Total_Price</th>\n",
       "    </tr>\n",
       "  </thead>\n",
       "  <tbody>\n",
       "    <tr>\n",
       "      <th>0</th>\n",
       "      <td>278166</td>\n",
       "      <td>6355745</td>\n",
       "      <td>465549</td>\n",
       "      <td>FAMILY ALBUM WHITE PICTURE FRAME</td>\n",
       "      <td>6</td>\n",
       "      <td>11.73</td>\n",
       "      <td>United Kingdom</td>\n",
       "      <td>2019-02-02 12:50:00</td>\n",
       "      <td>Sat</td>\n",
       "      <td>70.38</td>\n",
       "    </tr>\n",
       "    <tr>\n",
       "      <th>1</th>\n",
       "      <td>337701</td>\n",
       "      <td>6283376</td>\n",
       "      <td>482370</td>\n",
       "      <td>LONDON BUS COFFEE MUG</td>\n",
       "      <td>3</td>\n",
       "      <td>3.52</td>\n",
       "      <td>United Kingdom</td>\n",
       "      <td>2018-12-26 09:06:00</td>\n",
       "      <td>Wed</td>\n",
       "      <td>10.56</td>\n",
       "    </tr>\n",
       "    <tr>\n",
       "      <th>3</th>\n",
       "      <td>380478</td>\n",
       "      <td>6044973</td>\n",
       "      <td>459186</td>\n",
       "      <td>UNION JACK FLAG LUGGAGE TAG</td>\n",
       "      <td>3</td>\n",
       "      <td>1.73</td>\n",
       "      <td>United Kingdom</td>\n",
       "      <td>2018-06-22 07:14:00</td>\n",
       "      <td>Fri</td>\n",
       "      <td>5.19</td>\n",
       "    </tr>\n",
       "    <tr>\n",
       "      <th>5</th>\n",
       "      <td>285957</td>\n",
       "      <td>6307136</td>\n",
       "      <td>1787247</td>\n",
       "      <td>CUT GLASS T-LIGHT HOLDER OCTAGON</td>\n",
       "      <td>12</td>\n",
       "      <td>3.52</td>\n",
       "      <td>United Kingdom</td>\n",
       "      <td>2019-01-11 09:50:00</td>\n",
       "      <td>Fri</td>\n",
       "      <td>42.24</td>\n",
       "    </tr>\n",
       "    <tr>\n",
       "      <th>6</th>\n",
       "      <td>345954</td>\n",
       "      <td>6162981</td>\n",
       "      <td>471576</td>\n",
       "      <td>NATURAL SLATE CHALKBOARD LARGE</td>\n",
       "      <td>9</td>\n",
       "      <td>6.84</td>\n",
       "      <td>United Kingdom</td>\n",
       "      <td>2018-09-28 10:51:00</td>\n",
       "      <td>Fri</td>\n",
       "      <td>61.56</td>\n",
       "    </tr>\n",
       "    <tr>\n",
       "      <th>8</th>\n",
       "      <td>339822</td>\n",
       "      <td>6255403</td>\n",
       "      <td>1783845</td>\n",
       "      <td>MULTI COLOUR SILVER T-LIGHT HOLDER</td>\n",
       "      <td>36</td>\n",
       "      <td>1.18</td>\n",
       "      <td>United Kingdom</td>\n",
       "      <td>2018-12-10 09:23:00</td>\n",
       "      <td>Mon</td>\n",
       "      <td>42.48</td>\n",
       "    </tr>\n",
       "    <tr>\n",
       "      <th>9</th>\n",
       "      <td>328440</td>\n",
       "      <td>6387425</td>\n",
       "      <td>494802</td>\n",
       "      <td>SET OF 6 RIBBONS PERFECTLY PRETTY</td>\n",
       "      <td>36</td>\n",
       "      <td>3.99</td>\n",
       "      <td>United Kingdom</td>\n",
       "      <td>2019-02-16 10:35:00</td>\n",
       "      <td>Sat</td>\n",
       "      <td>143.64</td>\n",
       "    </tr>\n",
       "    <tr>\n",
       "      <th>10</th>\n",
       "      <td>316848</td>\n",
       "      <td>6262696</td>\n",
       "      <td>460215</td>\n",
       "      <td>RED  HARMONICA IN BOX</td>\n",
       "      <td>36</td>\n",
       "      <td>1.73</td>\n",
       "      <td>United Kingdom</td>\n",
       "      <td>2018-12-15 10:05:00</td>\n",
       "      <td>Sat</td>\n",
       "      <td>62.28</td>\n",
       "    </tr>\n",
       "    <tr>\n",
       "      <th>11</th>\n",
       "      <td>372897</td>\n",
       "      <td>6199061</td>\n",
       "      <td>459669</td>\n",
       "      <td>WOODEN BOX OF DOMINOES</td>\n",
       "      <td>3</td>\n",
       "      <td>1.73</td>\n",
       "      <td>United Kingdom</td>\n",
       "      <td>2018-10-29 09:04:00</td>\n",
       "      <td>Mon</td>\n",
       "      <td>5.19</td>\n",
       "    </tr>\n",
       "    <tr>\n",
       "      <th>12</th>\n",
       "      <td>364791</td>\n",
       "      <td>6358242</td>\n",
       "      <td>486276</td>\n",
       "      <td>SET OF 5 MINI GROCERY MAGNETS</td>\n",
       "      <td>3</td>\n",
       "      <td>2.88</td>\n",
       "      <td>United Kingdom</td>\n",
       "      <td>2019-02-03 09:25:00</td>\n",
       "      <td>Sun</td>\n",
       "      <td>8.64</td>\n",
       "    </tr>\n",
       "  </tbody>\n",
       "</table>\n",
       "</div>"
      ],
      "text/plain": [
       "    UserId  TransactionId  ItemCode                      ItemDescription  \\\n",
       "0   278166        6355745    465549     FAMILY ALBUM WHITE PICTURE FRAME   \n",
       "1   337701        6283376    482370                LONDON BUS COFFEE MUG   \n",
       "3   380478        6044973    459186          UNION JACK FLAG LUGGAGE TAG   \n",
       "5   285957        6307136   1787247     CUT GLASS T-LIGHT HOLDER OCTAGON   \n",
       "6   345954        6162981    471576      NATURAL SLATE CHALKBOARD LARGE    \n",
       "8   339822        6255403   1783845   MULTI COLOUR SILVER T-LIGHT HOLDER   \n",
       "9   328440        6387425    494802  SET OF 6 RIBBONS PERFECTLY PRETTY     \n",
       "10  316848        6262696    460215               RED  HARMONICA IN BOX    \n",
       "11  372897        6199061    459669               WOODEN BOX OF DOMINOES   \n",
       "12  364791        6358242    486276        SET OF 5 MINI GROCERY MAGNETS   \n",
       "\n",
       "    NumberOfItemsPurchased  CostPerItem         Country           Date_Time  \\\n",
       "0                        6        11.73  United Kingdom 2019-02-02 12:50:00   \n",
       "1                        3         3.52  United Kingdom 2018-12-26 09:06:00   \n",
       "3                        3         1.73  United Kingdom 2018-06-22 07:14:00   \n",
       "5                       12         3.52  United Kingdom 2019-01-11 09:50:00   \n",
       "6                        9         6.84  United Kingdom 2018-09-28 10:51:00   \n",
       "8                       36         1.18  United Kingdom 2018-12-10 09:23:00   \n",
       "9                       36         3.99  United Kingdom 2019-02-16 10:35:00   \n",
       "10                      36         1.73  United Kingdom 2018-12-15 10:05:00   \n",
       "11                       3         1.73  United Kingdom 2018-10-29 09:04:00   \n",
       "12                       3         2.88  United Kingdom 2019-02-03 09:25:00   \n",
       "\n",
       "   Week_day  Total_Price  \n",
       "0       Sat        70.38  \n",
       "1       Wed        10.56  \n",
       "3       Fri         5.19  \n",
       "5       Fri        42.24  \n",
       "6       Fri        61.56  \n",
       "8       Mon        42.48  \n",
       "9       Sat       143.64  \n",
       "10      Sat        62.28  \n",
       "11      Mon         5.19  \n",
       "12      Sun         8.64  "
      ]
     },
     "execution_count": 34,
     "metadata": {},
     "output_type": "execute_result"
    }
   ],
   "source": [
    "df.head(10)"
   ]
  },
  {
   "cell_type": "code",
   "execution_count": 35,
   "metadata": {},
   "outputs": [
    {
     "data": {
      "text/html": [
       "<div>\n",
       "<style scoped>\n",
       "    .dataframe tbody tr th:only-of-type {\n",
       "        vertical-align: middle;\n",
       "    }\n",
       "\n",
       "    .dataframe tbody tr th {\n",
       "        vertical-align: top;\n",
       "    }\n",
       "\n",
       "    .dataframe thead th {\n",
       "        text-align: right;\n",
       "    }\n",
       "</style>\n",
       "<table border=\"1\" class=\"dataframe\">\n",
       "  <thead>\n",
       "    <tr style=\"text-align: right;\">\n",
       "      <th></th>\n",
       "      <th>UserId</th>\n",
       "      <th>TransactionId</th>\n",
       "      <th>ItemCode</th>\n",
       "      <th>NumberOfItemsPurchased</th>\n",
       "      <th>CostPerItem</th>\n",
       "      <th>Total_Price</th>\n",
       "    </tr>\n",
       "  </thead>\n",
       "  <tbody>\n",
       "    <tr>\n",
       "      <th>count</th>\n",
       "      <td>706068.000000</td>\n",
       "      <td>7.060680e+05</td>\n",
       "      <td>7.060680e+05</td>\n",
       "      <td>706068.000000</td>\n",
       "      <td>7.060680e+05</td>\n",
       "      <td>7.060680e+05</td>\n",
       "    </tr>\n",
       "    <tr>\n",
       "      <th>mean</th>\n",
       "      <td>326589.565186</td>\n",
       "      <td>6.168121e+06</td>\n",
       "      <td>6.525814e+05</td>\n",
       "      <td>36.064914</td>\n",
       "      <td>8.757285e+00</td>\n",
       "      <td>2.001263e+02</td>\n",
       "    </tr>\n",
       "    <tr>\n",
       "      <th>std</th>\n",
       "      <td>33475.729322</td>\n",
       "      <td>1.444296e+05</td>\n",
       "      <td>4.394145e+05</td>\n",
       "      <td>572.093794</td>\n",
       "      <td>2.854896e+03</td>\n",
       "      <td>6.853074e+04</td>\n",
       "    </tr>\n",
       "    <tr>\n",
       "      <th>min</th>\n",
       "      <td>259266.000000</td>\n",
       "      <td>5.900015e+06</td>\n",
       "      <td>4.200000e+01</td>\n",
       "      <td>3.000000</td>\n",
       "      <td>0.000000e+00</td>\n",
       "      <td>0.000000e+00</td>\n",
       "    </tr>\n",
       "    <tr>\n",
       "      <th>25%</th>\n",
       "      <td>298074.000000</td>\n",
       "      <td>6.042201e+06</td>\n",
       "      <td>4.626090e+05</td>\n",
       "      <td>6.000000</td>\n",
       "      <td>1.730000e+00</td>\n",
       "      <td>1.728000e+01</td>\n",
       "    </tr>\n",
       "    <tr>\n",
       "      <th>50%</th>\n",
       "      <td>325941.000000</td>\n",
       "      <td>6.181263e+06</td>\n",
       "      <td>4.760910e+05</td>\n",
       "      <td>12.000000</td>\n",
       "      <td>2.700000e+00</td>\n",
       "      <td>4.248000e+01</td>\n",
       "    </tr>\n",
       "    <tr>\n",
       "      <th>75%</th>\n",
       "      <td>355551.000000</td>\n",
       "      <td>6.295333e+06</td>\n",
       "      <td>4.891110e+05</td>\n",
       "      <td>36.000000</td>\n",
       "      <td>5.180000e+00</td>\n",
       "      <td>7.344000e+01</td>\n",
       "    </tr>\n",
       "    <tr>\n",
       "      <th>max</th>\n",
       "      <td>384027.000000</td>\n",
       "      <td>6.397446e+06</td>\n",
       "      <td>1.894494e+06</td>\n",
       "      <td>242985.000000</td>\n",
       "      <td>1.696285e+06</td>\n",
       "      <td>4.071085e+07</td>\n",
       "    </tr>\n",
       "  </tbody>\n",
       "</table>\n",
       "</div>"
      ],
      "text/plain": [
       "              UserId  TransactionId      ItemCode  NumberOfItemsPurchased  \\\n",
       "count  706068.000000   7.060680e+05  7.060680e+05           706068.000000   \n",
       "mean   326589.565186   6.168121e+06  6.525814e+05               36.064914   \n",
       "std     33475.729322   1.444296e+05  4.394145e+05              572.093794   \n",
       "min    259266.000000   5.900015e+06  4.200000e+01                3.000000   \n",
       "25%    298074.000000   6.042201e+06  4.626090e+05                6.000000   \n",
       "50%    325941.000000   6.181263e+06  4.760910e+05               12.000000   \n",
       "75%    355551.000000   6.295333e+06  4.891110e+05               36.000000   \n",
       "max    384027.000000   6.397446e+06  1.894494e+06           242985.000000   \n",
       "\n",
       "        CostPerItem   Total_Price  \n",
       "count  7.060680e+05  7.060680e+05  \n",
       "mean   8.757285e+00  2.001263e+02  \n",
       "std    2.854896e+03  6.853074e+04  \n",
       "min    0.000000e+00  0.000000e+00  \n",
       "25%    1.730000e+00  1.728000e+01  \n",
       "50%    2.700000e+00  4.248000e+01  \n",
       "75%    5.180000e+00  7.344000e+01  \n",
       "max    1.696285e+06  4.071085e+07  "
      ]
     },
     "execution_count": 35,
     "metadata": {},
     "output_type": "execute_result"
    }
   ],
   "source": [
    "df.describe()"
   ]
  },
  {
   "cell_type": "code",
   "execution_count": 36,
   "metadata": {},
   "outputs": [
    {
     "data": {
      "text/plain": [
       "{'whiskers': [<matplotlib.lines.Line2D at 0x18f21161b08>,\n",
       "  <matplotlib.lines.Line2D at 0x18f2116ab88>],\n",
       " 'caps': [<matplotlib.lines.Line2D at 0x18f2116afc8>,\n",
       "  <matplotlib.lines.Line2D at 0x18f21171688>],\n",
       " 'boxes': [<matplotlib.lines.Line2D at 0x18f21169508>],\n",
       " 'medians': [<matplotlib.lines.Line2D at 0x18f21171e48>],\n",
       " 'fliers': [<matplotlib.lines.Line2D at 0x18f21171f48>],\n",
       " 'means': []}"
      ]
     },
     "execution_count": 36,
     "metadata": {},
     "output_type": "execute_result"
    },
    {
     "data": {
      "image/png": "[encoded data removed]",
      "text/plain": [
       "<Figure size 432x288 with 1 Axes>"
      ]
     },
     "metadata": {
      "needs_background": "light"
     },
     "output_type": "display_data"
    }
   ],
   "source": [
    "plt.boxplot(df['NumberOfItemsPurchased'])"
   ]
  },
  {
   "cell_type": "code",
   "execution_count": 37,
   "metadata": {},
   "outputs": [],
   "source": [
    "#lets remove outliers\n",
    "df=df[df['NumberOfItemsPurchased']<5000]"
   ]
  },
  {
   "cell_type": "code",
   "execution_count": 38,
   "metadata": {},
   "outputs": [
    {
     "data": {
      "text/plain": [
       "<matplotlib.axes._subplots.AxesSubplot at 0x18f2118e088>"
      ]
     },
     "execution_count": 38,
     "metadata": {},
     "output_type": "execute_result"
    },
    {
     "data": {
      "image/png": "[encoded data removed]",
      "text/plain": [
       "<Figure size 432x288 with 1 Axes>"
      ]
     },
     "metadata": {
      "needs_background": "light"
     },
     "output_type": "display_data"
    }
   ],
   "source": [
    "sns.boxplot(df['NumberOfItemsPurchased'])"
   ]
  },
  {
   "cell_type": "code",
   "execution_count": 39,
   "metadata": {},
   "outputs": [
    {
     "data": {
      "text/plain": [
       "<matplotlib.axes._subplots.AxesSubplot at 0x18f21127a08>"
      ]
     },
     "execution_count": 39,
     "metadata": {},
     "output_type": "execute_result"
    },
    {
     "data": {
      "image/png": "[encoded data removed]",
      "text/plain": [
       "<Figure size 432x288 with 1 Axes>"
      ]
     },
     "metadata": {
      "needs_background": "light"
     },
     "output_type": "display_data"
    }
   ],
   "source": [
    "df_clean=df[df['NumberOfItemsPurchased']<81]\n",
    "sns.boxplot(df_clean['NumberOfItemsPurchased'])"
   ]
  },
  {
   "cell_type": "code",
   "execution_count": 40,
   "metadata": {},
   "outputs": [
    {
     "data": {
      "text/plain": [
       "(665702, 10)"
      ]
     },
     "execution_count": 40,
     "metadata": {},
     "output_type": "execute_result"
    }
   ],
   "source": [
    "df_clean.shape"
   ]
  },
  {
   "cell_type": "code",
   "execution_count": 41,
   "metadata": {},
   "outputs": [
    {
     "data": {
      "text/html": [
       "<div>\n",
       "<style scoped>\n",
       "    .dataframe tbody tr th:only-of-type {\n",
       "        vertical-align: middle;\n",
       "    }\n",
       "\n",
       "    .dataframe tbody tr th {\n",
       "        vertical-align: top;\n",
       "    }\n",
       "\n",
       "    .dataframe thead th {\n",
       "        text-align: right;\n",
       "    }\n",
       "</style>\n",
       "<table border=\"1\" class=\"dataframe\">\n",
       "  <thead>\n",
       "    <tr style=\"text-align: right;\">\n",
       "      <th></th>\n",
       "      <th>UserId</th>\n",
       "      <th>TransactionId</th>\n",
       "      <th>ItemCode</th>\n",
       "      <th>NumberOfItemsPurchased</th>\n",
       "      <th>CostPerItem</th>\n",
       "      <th>Total_Price</th>\n",
       "    </tr>\n",
       "  </thead>\n",
       "  <tbody>\n",
       "    <tr>\n",
       "      <th>count</th>\n",
       "      <td>665702.000000</td>\n",
       "      <td>6.657020e+05</td>\n",
       "      <td>6.657020e+05</td>\n",
       "      <td>665702.000000</td>\n",
       "      <td>6.657020e+05</td>\n",
       "      <td>6.657020e+05</td>\n",
       "    </tr>\n",
       "    <tr>\n",
       "      <th>mean</th>\n",
       "      <td>326719.544475</td>\n",
       "      <td>6.168357e+06</td>\n",
       "      <td>6.479005e+05</td>\n",
       "      <td>20.106735</td>\n",
       "      <td>9.165739e+00</td>\n",
       "      <td>1.773573e+02</td>\n",
       "    </tr>\n",
       "    <tr>\n",
       "      <th>std</th>\n",
       "      <td>33423.972649</td>\n",
       "      <td>1.446239e+05</td>\n",
       "      <td>4.340240e+05</td>\n",
       "      <td>19.681276</td>\n",
       "      <td>2.940177e+03</td>\n",
       "      <td>7.056422e+04</td>\n",
       "    </tr>\n",
       "    <tr>\n",
       "      <th>min</th>\n",
       "      <td>267687.000000</td>\n",
       "      <td>5.900015e+06</td>\n",
       "      <td>4.200000e+01</td>\n",
       "      <td>3.000000</td>\n",
       "      <td>0.000000e+00</td>\n",
       "      <td>0.000000e+00</td>\n",
       "    </tr>\n",
       "    <tr>\n",
       "      <th>25%</th>\n",
       "      <td>298515.000000</td>\n",
       "      <td>6.042069e+06</td>\n",
       "      <td>4.627770e+05</td>\n",
       "      <td>6.000000</td>\n",
       "      <td>1.730000e+00</td>\n",
       "      <td>1.620000e+01</td>\n",
       "    </tr>\n",
       "    <tr>\n",
       "      <th>50%</th>\n",
       "      <td>326109.000000</td>\n",
       "      <td>6.182341e+06</td>\n",
       "      <td>4.761540e+05</td>\n",
       "      <td>12.000000</td>\n",
       "      <td>2.700000e+00</td>\n",
       "      <td>4.140000e+01</td>\n",
       "    </tr>\n",
       "    <tr>\n",
       "      <th>75%</th>\n",
       "      <td>355551.000000</td>\n",
       "      <td>6.295476e+06</td>\n",
       "      <td>4.889640e+05</td>\n",
       "      <td>36.000000</td>\n",
       "      <td>5.180000e+00</td>\n",
       "      <td>7.044000e+01</td>\n",
       "    </tr>\n",
       "    <tr>\n",
       "      <th>max</th>\n",
       "      <td>384027.000000</td>\n",
       "      <td>6.397446e+06</td>\n",
       "      <td>1.894494e+06</td>\n",
       "      <td>78.000000</td>\n",
       "      <td>1.696285e+06</td>\n",
       "      <td>4.071085e+07</td>\n",
       "    </tr>\n",
       "  </tbody>\n",
       "</table>\n",
       "</div>"
      ],
      "text/plain": [
       "              UserId  TransactionId      ItemCode  NumberOfItemsPurchased  \\\n",
       "count  665702.000000   6.657020e+05  6.657020e+05           665702.000000   \n",
       "mean   326719.544475   6.168357e+06  6.479005e+05               20.106735   \n",
       "std     33423.972649   1.446239e+05  4.340240e+05               19.681276   \n",
       "min    267687.000000   5.900015e+06  4.200000e+01                3.000000   \n",
       "25%    298515.000000   6.042069e+06  4.627770e+05                6.000000   \n",
       "50%    326109.000000   6.182341e+06  4.761540e+05               12.000000   \n",
       "75%    355551.000000   6.295476e+06  4.889640e+05               36.000000   \n",
       "max    384027.000000   6.397446e+06  1.894494e+06               78.000000   \n",
       "\n",
       "        CostPerItem   Total_Price  \n",
       "count  6.657020e+05  6.657020e+05  \n",
       "mean   9.165739e+00  1.773573e+02  \n",
       "std    2.940177e+03  7.056422e+04  \n",
       "min    0.000000e+00  0.000000e+00  \n",
       "25%    1.730000e+00  1.620000e+01  \n",
       "50%    2.700000e+00  4.140000e+01  \n",
       "75%    5.180000e+00  7.044000e+01  \n",
       "max    1.696285e+06  4.071085e+07  "
      ]
     },
     "execution_count": 41,
     "metadata": {},
     "output_type": "execute_result"
    }
   ],
   "source": [
    "df_clean.describe()"
   ]
  },
  {
   "cell_type": "code",
   "execution_count": 42,
   "metadata": {},
   "outputs": [
    {
     "data": {
      "text/plain": [
       "UserId                    0\n",
       "TransactionId             0\n",
       "ItemCode                  0\n",
       "ItemDescription           0\n",
       "NumberOfItemsPurchased    0\n",
       "CostPerItem               0\n",
       "Country                   0\n",
       "Date_Time                 0\n",
       "Week_day                  0\n",
       "Total_Price               0\n",
       "dtype: int64"
      ]
     },
     "execution_count": 42,
     "metadata": {},
     "output_type": "execute_result"
    }
   ],
   "source": [
    "#check for missing values\n",
    "df_clean.isna().sum()"
   ]
  },
  {
   "cell_type": "code",
   "execution_count": 43,
   "metadata": {},
   "outputs": [
    {
     "name": "stdout",
     "output_type": "stream",
     "text": [
      "Number of transactions:  15374\n",
      "Number of products purchased:  3171\n",
      "Number of customers: 3812\n"
     ]
    }
   ],
   "source": [
    "print(\"Number of transactions: \", df_clean['TransactionId'].nunique())\n",
    "print(\"Number of products purchased: \",df_clean['ItemCode'].nunique())\n",
    "print(\"Number of customers:\", df_clean['UserId'].nunique() )"
   ]
  },
  {
   "cell_type": "code",
   "execution_count": 44,
   "metadata": {},
   "outputs": [
    {
     "data": {
      "text/plain": [
       "(665702, 10)"
      ]
     },
     "execution_count": 44,
     "metadata": {},
     "output_type": "execute_result"
    }
   ],
   "source": [
    "df_clean.shape"
   ]
  },
  {
   "cell_type": "markdown",
   "metadata": {},
   "source": [
    "### Beautiful... Successfully cleaned our data"
   ]
  },
  {
   "cell_type": "code",
   "execution_count": 45,
   "metadata": {},
   "outputs": [],
   "source": [
    "#let's save cleaned data to a .csv file\n",
    "df_clean.to_csv('clean_transaction_data.csv')"
   ]
  },
  {
   "cell_type": "code",
   "execution_count": 46,
   "metadata": {},
   "outputs": [
    {
     "data": {
      "text/html": [
       "<div>\n",
       "<style scoped>\n",
       "    .dataframe tbody tr th:only-of-type {\n",
       "        vertical-align: middle;\n",
       "    }\n",
       "\n",
       "    .dataframe tbody tr th {\n",
       "        vertical-align: top;\n",
       "    }\n",
       "\n",
       "    .dataframe thead th {\n",
       "        text-align: right;\n",
       "    }\n",
       "</style>\n",
       "<table border=\"1\" class=\"dataframe\">\n",
       "  <thead>\n",
       "    <tr style=\"text-align: right;\">\n",
       "      <th></th>\n",
       "      <th>UserId</th>\n",
       "      <th>TransactionId</th>\n",
       "      <th>ItemCode</th>\n",
       "      <th>ItemDescription</th>\n",
       "      <th>NumberOfItemsPurchased</th>\n",
       "      <th>CostPerItem</th>\n",
       "      <th>Country</th>\n",
       "      <th>Date_Time</th>\n",
       "      <th>Week_day</th>\n",
       "      <th>Total_Price</th>\n",
       "    </tr>\n",
       "  </thead>\n",
       "  <tbody>\n",
       "    <tr>\n",
       "      <th>0</th>\n",
       "      <td>278166</td>\n",
       "      <td>6355745</td>\n",
       "      <td>465549</td>\n",
       "      <td>FAMILY ALBUM WHITE PICTURE FRAME</td>\n",
       "      <td>6</td>\n",
       "      <td>11.73</td>\n",
       "      <td>United Kingdom</td>\n",
       "      <td>2019-02-02 12:50:00</td>\n",
       "      <td>Sat</td>\n",
       "      <td>70.38</td>\n",
       "    </tr>\n",
       "    <tr>\n",
       "      <th>1</th>\n",
       "      <td>337701</td>\n",
       "      <td>6283376</td>\n",
       "      <td>482370</td>\n",
       "      <td>LONDON BUS COFFEE MUG</td>\n",
       "      <td>3</td>\n",
       "      <td>3.52</td>\n",
       "      <td>United Kingdom</td>\n",
       "      <td>2018-12-26 09:06:00</td>\n",
       "      <td>Wed</td>\n",
       "      <td>10.56</td>\n",
       "    </tr>\n",
       "    <tr>\n",
       "      <th>3</th>\n",
       "      <td>380478</td>\n",
       "      <td>6044973</td>\n",
       "      <td>459186</td>\n",
       "      <td>UNION JACK FLAG LUGGAGE TAG</td>\n",
       "      <td>3</td>\n",
       "      <td>1.73</td>\n",
       "      <td>United Kingdom</td>\n",
       "      <td>2018-06-22 07:14:00</td>\n",
       "      <td>Fri</td>\n",
       "      <td>5.19</td>\n",
       "    </tr>\n",
       "    <tr>\n",
       "      <th>5</th>\n",
       "      <td>285957</td>\n",
       "      <td>6307136</td>\n",
       "      <td>1787247</td>\n",
       "      <td>CUT GLASS T-LIGHT HOLDER OCTAGON</td>\n",
       "      <td>12</td>\n",
       "      <td>3.52</td>\n",
       "      <td>United Kingdom</td>\n",
       "      <td>2019-01-11 09:50:00</td>\n",
       "      <td>Fri</td>\n",
       "      <td>42.24</td>\n",
       "    </tr>\n",
       "    <tr>\n",
       "      <th>6</th>\n",
       "      <td>345954</td>\n",
       "      <td>6162981</td>\n",
       "      <td>471576</td>\n",
       "      <td>NATURAL SLATE CHALKBOARD LARGE</td>\n",
       "      <td>9</td>\n",
       "      <td>6.84</td>\n",
       "      <td>United Kingdom</td>\n",
       "      <td>2018-09-28 10:51:00</td>\n",
       "      <td>Fri</td>\n",
       "      <td>61.56</td>\n",
       "    </tr>\n",
       "    <tr>\n",
       "      <th>8</th>\n",
       "      <td>339822</td>\n",
       "      <td>6255403</td>\n",
       "      <td>1783845</td>\n",
       "      <td>MULTI COLOUR SILVER T-LIGHT HOLDER</td>\n",
       "      <td>36</td>\n",
       "      <td>1.18</td>\n",
       "      <td>United Kingdom</td>\n",
       "      <td>2018-12-10 09:23:00</td>\n",
       "      <td>Mon</td>\n",
       "      <td>42.48</td>\n",
       "    </tr>\n",
       "    <tr>\n",
       "      <th>9</th>\n",
       "      <td>328440</td>\n",
       "      <td>6387425</td>\n",
       "      <td>494802</td>\n",
       "      <td>SET OF 6 RIBBONS PERFECTLY PRETTY</td>\n",
       "      <td>36</td>\n",
       "      <td>3.99</td>\n",
       "      <td>United Kingdom</td>\n",
       "      <td>2019-02-16 10:35:00</td>\n",
       "      <td>Sat</td>\n",
       "      <td>143.64</td>\n",
       "    </tr>\n",
       "    <tr>\n",
       "      <th>10</th>\n",
       "      <td>316848</td>\n",
       "      <td>6262696</td>\n",
       "      <td>460215</td>\n",
       "      <td>RED  HARMONICA IN BOX</td>\n",
       "      <td>36</td>\n",
       "      <td>1.73</td>\n",
       "      <td>United Kingdom</td>\n",
       "      <td>2018-12-15 10:05:00</td>\n",
       "      <td>Sat</td>\n",
       "      <td>62.28</td>\n",
       "    </tr>\n",
       "    <tr>\n",
       "      <th>11</th>\n",
       "      <td>372897</td>\n",
       "      <td>6199061</td>\n",
       "      <td>459669</td>\n",
       "      <td>WOODEN BOX OF DOMINOES</td>\n",
       "      <td>3</td>\n",
       "      <td>1.73</td>\n",
       "      <td>United Kingdom</td>\n",
       "      <td>2018-10-29 09:04:00</td>\n",
       "      <td>Mon</td>\n",
       "      <td>5.19</td>\n",
       "    </tr>\n",
       "    <tr>\n",
       "      <th>12</th>\n",
       "      <td>364791</td>\n",
       "      <td>6358242</td>\n",
       "      <td>486276</td>\n",
       "      <td>SET OF 5 MINI GROCERY MAGNETS</td>\n",
       "      <td>3</td>\n",
       "      <td>2.88</td>\n",
       "      <td>United Kingdom</td>\n",
       "      <td>2019-02-03 09:25:00</td>\n",
       "      <td>Sun</td>\n",
       "      <td>8.64</td>\n",
       "    </tr>\n",
       "  </tbody>\n",
       "</table>\n",
       "</div>"
      ],
      "text/plain": [
       "    UserId  TransactionId  ItemCode                      ItemDescription  \\\n",
       "0   278166        6355745    465549     FAMILY ALBUM WHITE PICTURE FRAME   \n",
       "1   337701        6283376    482370                LONDON BUS COFFEE MUG   \n",
       "3   380478        6044973    459186          UNION JACK FLAG LUGGAGE TAG   \n",
       "5   285957        6307136   1787247     CUT GLASS T-LIGHT HOLDER OCTAGON   \n",
       "6   345954        6162981    471576      NATURAL SLATE CHALKBOARD LARGE    \n",
       "8   339822        6255403   1783845   MULTI COLOUR SILVER T-LIGHT HOLDER   \n",
       "9   328440        6387425    494802  SET OF 6 RIBBONS PERFECTLY PRETTY     \n",
       "10  316848        6262696    460215               RED  HARMONICA IN BOX    \n",
       "11  372897        6199061    459669               WOODEN BOX OF DOMINOES   \n",
       "12  364791        6358242    486276        SET OF 5 MINI GROCERY MAGNETS   \n",
       "\n",
       "    NumberOfItemsPurchased  CostPerItem         Country           Date_Time  \\\n",
       "0                        6        11.73  United Kingdom 2019-02-02 12:50:00   \n",
       "1                        3         3.52  United Kingdom 2018-12-26 09:06:00   \n",
       "3                        3         1.73  United Kingdom 2018-06-22 07:14:00   \n",
       "5                       12         3.52  United Kingdom 2019-01-11 09:50:00   \n",
       "6                        9         6.84  United Kingdom 2018-09-28 10:51:00   \n",
       "8                       36         1.18  United Kingdom 2018-12-10 09:23:00   \n",
       "9                       36         3.99  United Kingdom 2019-02-16 10:35:00   \n",
       "10                      36         1.73  United Kingdom 2018-12-15 10:05:00   \n",
       "11                       3         1.73  United Kingdom 2018-10-29 09:04:00   \n",
       "12                       3         2.88  United Kingdom 2019-02-03 09:25:00   \n",
       "\n",
       "   Week_day  Total_Price  \n",
       "0       Sat        70.38  \n",
       "1       Wed        10.56  \n",
       "3       Fri         5.19  \n",
       "5       Fri        42.24  \n",
       "6       Fri        61.56  \n",
       "8       Mon        42.48  \n",
       "9       Sat       143.64  \n",
       "10      Sat        62.28  \n",
       "11      Mon         5.19  \n",
       "12      Sun         8.64  "
      ]
     },
     "execution_count": 46,
     "metadata": {},
     "output_type": "execute_result"
    }
   ],
   "source": [
    "df_clean.head(10)"
   ]
  },
  {
   "cell_type": "code",
   "execution_count": 47,
   "metadata": {},
   "outputs": [],
   "source": [
    "#we can remove country column\n",
    "df_clean.drop('Country',axis=1,inplace=True)"
   ]
  },
  {
   "cell_type": "markdown",
   "metadata": {},
   "source": [
    "# EDA(Exploratory Data Analysis)"
   ]
  },
  {
   "cell_type": "markdown",
   "metadata": {},
   "source": [
    "Our aim is to Explore and identify different segments present in the customer transaction data."
   ]
  },
  {
   "cell_type": "code",
   "execution_count": 48,
   "metadata": {},
   "outputs": [
    {
     "data": {
      "text/plain": [
       "Tue    130692\n",
       "Fri    115690\n",
       "Mon    113566\n",
       "Sat    109064\n",
       "Sun    108894\n",
       "Wed     87796\n",
       "Name: Week_day, dtype: int64"
      ]
     },
     "execution_count": 48,
     "metadata": {},
     "output_type": "execute_result"
    }
   ],
   "source": [
    "df_clean['Week_day'].value_counts()"
   ]
  },
  {
   "cell_type": "code",
   "execution_count": 49,
   "metadata": {},
   "outputs": [
    {
     "data": {
      "text/plain": [
       "<matplotlib.axes._subplots.AxesSubplot at 0x18f24d2c748>"
      ]
     },
     "execution_count": 49,
     "metadata": {},
     "output_type": "execute_result"
    },
    {
     "data": {
      "image/png": "[encoded data removed]",
      "text/plain": [
       "<Figure size 432x288 with 1 Axes>"
      ]
     },
     "metadata": {
      "needs_background": "light"
     },
     "output_type": "display_data"
    }
   ],
   "source": [
    "df_clean['Week_day'].value_counts().plot(kind='bar')\n"
   ]
  },
  {
   "cell_type": "markdown",
   "metadata": {},
   "source": [
    "More sales are on Tuesday\n",
    "Less sales are on Wednesday\n"
   ]
  },
  {
   "cell_type": "markdown",
   "metadata": {},
   "source": [
    "* we have dates of purchase (how recently purchases are done)\n",
    "* Number Of prchases (how many purchases are done)\n",
    "* Total Money spent by a customer\n"
   ]
  },
  {
   "cell_type": "markdown",
   "metadata": {},
   "source": [
    "### We can use RFM Analysis"
   ]
  },
  {
   "cell_type": "code",
   "execution_count": 50,
   "metadata": {},
   "outputs": [
    {
     "data": {
      "text/plain": [
       "6339729    1068\n",
       "6371156    1046\n",
       "6387997    1044\n",
       "6360970     868\n",
       "6309336     866\n",
       "Name: TransactionId, dtype: int64"
      ]
     },
     "execution_count": 50,
     "metadata": {},
     "output_type": "execute_result"
    }
   ],
   "source": [
    "df_clean['TransactionId'].value_counts().head()"
   ]
  },
  {
   "cell_type": "code",
   "execution_count": 51,
   "metadata": {},
   "outputs": [],
   "source": [
    "# we can see that a customer purchased many times\n",
    "# let's us see how many purchases he made rather than how many items he bought\n",
    "\n",
    "purchases = df_clean.groupby(['TransactionId', 'UserId', 'Date_Time']).agg({'Total_Price': lambda x: x.sum()}).reset_index()"
   ]
  },
  {
   "cell_type": "code",
   "execution_count": 52,
   "metadata": {},
   "outputs": [
    {
     "data": {
      "text/html": [
       "<div>\n",
       "<style scoped>\n",
       "    .dataframe tbody tr th:only-of-type {\n",
       "        vertical-align: middle;\n",
       "    }\n",
       "\n",
       "    .dataframe tbody tr th {\n",
       "        vertical-align: top;\n",
       "    }\n",
       "\n",
       "    .dataframe thead th {\n",
       "        text-align: right;\n",
       "    }\n",
       "</style>\n",
       "<table border=\"1\" class=\"dataframe\">\n",
       "  <thead>\n",
       "    <tr style=\"text-align: right;\">\n",
       "      <th></th>\n",
       "      <th>TransactionId</th>\n",
       "      <th>UserId</th>\n",
       "      <th>Date_Time</th>\n",
       "      <th>Total_Price</th>\n",
       "    </tr>\n",
       "  </thead>\n",
       "  <tbody>\n",
       "    <tr>\n",
       "      <th>0</th>\n",
       "      <td>5900015</td>\n",
       "      <td>374850</td>\n",
       "      <td>2018-02-12 04:26:00</td>\n",
       "      <td>1152.60</td>\n",
       "    </tr>\n",
       "    <tr>\n",
       "      <th>1</th>\n",
       "      <td>5900026</td>\n",
       "      <td>374850</td>\n",
       "      <td>2018-02-12 04:28:00</td>\n",
       "      <td>184.32</td>\n",
       "    </tr>\n",
       "    <tr>\n",
       "      <th>2</th>\n",
       "      <td>5900037</td>\n",
       "      <td>273987</td>\n",
       "      <td>2018-02-12 04:34:00</td>\n",
       "      <td>1861.80</td>\n",
       "    </tr>\n",
       "    <tr>\n",
       "      <th>3</th>\n",
       "      <td>5900048</td>\n",
       "      <td>273987</td>\n",
       "      <td>2018-02-12 04:34:00</td>\n",
       "      <td>580.68</td>\n",
       "    </tr>\n",
       "    <tr>\n",
       "      <th>4</th>\n",
       "      <td>5900059</td>\n",
       "      <td>273987</td>\n",
       "      <td>2018-02-12 04:35:00</td>\n",
       "      <td>147.96</td>\n",
       "    </tr>\n",
       "  </tbody>\n",
       "</table>\n",
       "</div>"
      ],
      "text/plain": [
       "   TransactionId  UserId           Date_Time  Total_Price\n",
       "0        5900015  374850 2018-02-12 04:26:00      1152.60\n",
       "1        5900026  374850 2018-02-12 04:28:00       184.32\n",
       "2        5900037  273987 2018-02-12 04:34:00      1861.80\n",
       "3        5900048  273987 2018-02-12 04:34:00       580.68\n",
       "4        5900059  273987 2018-02-12 04:35:00       147.96"
      ]
     },
     "execution_count": 52,
     "metadata": {},
     "output_type": "execute_result"
    }
   ],
   "source": [
    "purchases.head()"
   ]
  },
  {
   "cell_type": "code",
   "execution_count": 53,
   "metadata": {},
   "outputs": [
    {
     "data": {
      "text/plain": [
       "(15400, 4)"
      ]
     },
     "execution_count": 53,
     "metadata": {},
     "output_type": "execute_result"
    }
   ],
   "source": [
    "purchases.shape"
   ]
  },
  {
   "cell_type": "code",
   "execution_count": 54,
   "metadata": {},
   "outputs": [
    {
     "data": {
      "text/plain": [
       "Timestamp('2019-02-21 08:49:00')"
      ]
     },
     "execution_count": 54,
     "metadata": {},
     "output_type": "execute_result"
    }
   ],
   "source": [
    "#we have data from Feb 2018 to Feb 2019\n",
    "# to calculate recency let's take a reference date\n",
    "ref_date = purchases['Date_Time'].max() + dt.timedelta(days=1)\n",
    "ref_date\n",
    "#we took reference date as one day after the last purchase"
   ]
  },
  {
   "cell_type": "code",
   "execution_count": 55,
   "metadata": {},
   "outputs": [],
   "source": [
    "#calculating RFM_table dataframe from purchases dataframe\n",
    "RFM_table=purchases.groupby('UserId').agg({'Date_Time': lambda x: (ref_date - x.max()).days,\n",
    "                                            'TransactionId': lambda x: len(x.unique()),\n",
    "                                            'Total_Price': lambda x: x.sum()}) "
   ]
  },
  {
   "cell_type": "code",
   "execution_count": 56,
   "metadata": {},
   "outputs": [
    {
     "data": {
      "text/html": [
       "<div>\n",
       "<style scoped>\n",
       "    .dataframe tbody tr th:only-of-type {\n",
       "        vertical-align: middle;\n",
       "    }\n",
       "\n",
       "    .dataframe tbody tr th {\n",
       "        vertical-align: top;\n",
       "    }\n",
       "\n",
       "    .dataframe thead th {\n",
       "        text-align: right;\n",
       "    }\n",
       "</style>\n",
       "<table border=\"1\" class=\"dataframe\">\n",
       "  <thead>\n",
       "    <tr style=\"text-align: right;\">\n",
       "      <th></th>\n",
       "      <th>Date_Time</th>\n",
       "      <th>TransactionId</th>\n",
       "      <th>Total_Price</th>\n",
       "    </tr>\n",
       "    <tr>\n",
       "      <th>UserId</th>\n",
       "      <th></th>\n",
       "      <th></th>\n",
       "      <th></th>\n",
       "    </tr>\n",
       "  </thead>\n",
       "  <tbody>\n",
       "    <tr>\n",
       "      <th>267687</th>\n",
       "      <td>2</td>\n",
       "      <td>11</td>\n",
       "      <td>25484.82</td>\n",
       "    </tr>\n",
       "    <tr>\n",
       "      <th>267708</th>\n",
       "      <td>1</td>\n",
       "      <td>199</td>\n",
       "      <td>202911.78</td>\n",
       "    </tr>\n",
       "    <tr>\n",
       "      <th>267729</th>\n",
       "      <td>4</td>\n",
       "      <td>5</td>\n",
       "      <td>33435.00</td>\n",
       "    </tr>\n",
       "    <tr>\n",
       "      <th>269220</th>\n",
       "      <td>3</td>\n",
       "      <td>4</td>\n",
       "      <td>7665.72</td>\n",
       "    </tr>\n",
       "    <tr>\n",
       "      <th>269241</th>\n",
       "      <td>214</td>\n",
       "      <td>1</td>\n",
       "      <td>769.56</td>\n",
       "    </tr>\n",
       "  </tbody>\n",
       "</table>\n",
       "</div>"
      ],
      "text/plain": [
       "        Date_Time  TransactionId  Total_Price\n",
       "UserId                                       \n",
       "267687          2             11     25484.82\n",
       "267708          1            199    202911.78\n",
       "267729          4              5     33435.00\n",
       "269220          3              4      7665.72\n",
       "269241        214              1       769.56"
      ]
     },
     "execution_count": 56,
     "metadata": {},
     "output_type": "execute_result"
    }
   ],
   "source": [
    "RFM_table.head()"
   ]
  },
  {
   "cell_type": "code",
   "execution_count": 57,
   "metadata": {},
   "outputs": [],
   "source": [
    "RFM_table.rename(columns={'Date_Time':'Recency',\n",
    "                         'TransactionId':'Frequency',\n",
    "                         'Total_Price':'Monetory'}, inplace=True)"
   ]
  },
  {
   "cell_type": "markdown",
   "metadata": {},
   "source": [
    "### calculating RFM scores..."
   ]
  },
  {
   "cell_type": "code",
   "execution_count": 58,
   "metadata": {},
   "outputs": [
    {
     "data": {
      "text/html": [
       "<div>\n",
       "<style scoped>\n",
       "    .dataframe tbody tr th:only-of-type {\n",
       "        vertical-align: middle;\n",
       "    }\n",
       "\n",
       "    .dataframe tbody tr th {\n",
       "        vertical-align: top;\n",
       "    }\n",
       "\n",
       "    .dataframe thead th {\n",
       "        text-align: right;\n",
       "    }\n",
       "</style>\n",
       "<table border=\"1\" class=\"dataframe\">\n",
       "  <thead>\n",
       "    <tr style=\"text-align: right;\">\n",
       "      <th></th>\n",
       "      <th>Recency</th>\n",
       "      <th>Frequency</th>\n",
       "      <th>Monetory</th>\n",
       "    </tr>\n",
       "  </thead>\n",
       "  <tbody>\n",
       "    <tr>\n",
       "      <th>0.2</th>\n",
       "      <td>13.0</td>\n",
       "      <td>1.0</td>\n",
       "      <td>1644.432</td>\n",
       "    </tr>\n",
       "    <tr>\n",
       "      <th>0.4</th>\n",
       "      <td>33.0</td>\n",
       "      <td>2.0</td>\n",
       "      <td>3269.472</td>\n",
       "    </tr>\n",
       "    <tr>\n",
       "      <th>0.6</th>\n",
       "      <td>71.0</td>\n",
       "      <td>3.0</td>\n",
       "      <td>6077.112</td>\n",
       "    </tr>\n",
       "    <tr>\n",
       "      <th>0.8</th>\n",
       "      <td>178.0</td>\n",
       "      <td>5.0</td>\n",
       "      <td>13085.340</td>\n",
       "    </tr>\n",
       "  </tbody>\n",
       "</table>\n",
       "</div>"
      ],
      "text/plain": [
       "     Recency  Frequency   Monetory\n",
       "0.2     13.0        1.0   1644.432\n",
       "0.4     33.0        2.0   3269.472\n",
       "0.6     71.0        3.0   6077.112\n",
       "0.8    178.0        5.0  13085.340"
      ]
     },
     "execution_count": 58,
     "metadata": {},
     "output_type": "execute_result"
    }
   ],
   "source": [
    "#i am going to use quantiles\n",
    "#20% of data in each quintile\n",
    "quantiles = RFM_table.quantile(q=[0.2,0.4,0.6,0.8])\n",
    "quantiles"
   ]
  },
  {
   "cell_type": "code",
   "execution_count": 59,
   "metadata": {},
   "outputs": [],
   "source": [
    "quantiles = quantiles.to_dict()"
   ]
  },
  {
   "cell_type": "code",
   "execution_count": 60,
   "metadata": {},
   "outputs": [],
   "source": [
    "# calculate R_score\n",
    "# writing a function to calculate R_score\n",
    "# higher rank, more recency\n",
    "def R_score(x):\n",
    "    if x <= quantiles['Recency'][.2]:\n",
    "        return 5\n",
    "    elif x <= quantiles['Recency'][.4]:\n",
    "        return 4\n",
    "    elif x <= quantiles['Recency'][.6]:\n",
    "        return 3\n",
    "    elif x <= quantiles['Recency'][.8]:\n",
    "        return 2\n",
    "    else:\n",
    "        return 1"
   ]
  },
  {
   "cell_type": "code",
   "execution_count": 61,
   "metadata": {},
   "outputs": [],
   "source": [
    "# calculating FM_Scores\n",
    "def FM_score(x, i):\n",
    "    if x <= quantiles[i][.2]:\n",
    "        return 1\n",
    "    elif x <= quantiles[i][.4]:\n",
    "        return 2\n",
    "    elif x <= quantiles[i][.6]:\n",
    "        return 3\n",
    "    elif x <= quantiles[i][.8]:\n",
    "        return 4\n",
    "    else:\n",
    "        return 5 \n",
    "#here i is esither Frequency or Monetory"
   ]
  },
  {
   "cell_type": "code",
   "execution_count": 62,
   "metadata": {},
   "outputs": [],
   "source": [
    "RFM_table['R'] = RFM_table['Recency'].apply(lambda x: R_score(x))\n",
    "RFM_table['F'] = RFM_table['Frequency'].apply(lambda x: FM_score(x, 'Frequency'))\n",
    "RFM_table['M'] = RFM_table['Monetory'].apply(lambda x: FM_score(x, 'Monetory'))"
   ]
  },
  {
   "cell_type": "code",
   "execution_count": 63,
   "metadata": {},
   "outputs": [
    {
     "data": {
      "text/html": [
       "<div>\n",
       "<style scoped>\n",
       "    .dataframe tbody tr th:only-of-type {\n",
       "        vertical-align: middle;\n",
       "    }\n",
       "\n",
       "    .dataframe tbody tr th {\n",
       "        vertical-align: top;\n",
       "    }\n",
       "\n",
       "    .dataframe thead th {\n",
       "        text-align: right;\n",
       "    }\n",
       "</style>\n",
       "<table border=\"1\" class=\"dataframe\">\n",
       "  <thead>\n",
       "    <tr style=\"text-align: right;\">\n",
       "      <th></th>\n",
       "      <th>Recency</th>\n",
       "      <th>Frequency</th>\n",
       "      <th>Monetory</th>\n",
       "      <th>R</th>\n",
       "      <th>F</th>\n",
       "      <th>M</th>\n",
       "    </tr>\n",
       "    <tr>\n",
       "      <th>UserId</th>\n",
       "      <th></th>\n",
       "      <th></th>\n",
       "      <th></th>\n",
       "      <th></th>\n",
       "      <th></th>\n",
       "      <th></th>\n",
       "    </tr>\n",
       "  </thead>\n",
       "  <tbody>\n",
       "    <tr>\n",
       "      <th>267687</th>\n",
       "      <td>2</td>\n",
       "      <td>11</td>\n",
       "      <td>25484.82</td>\n",
       "      <td>5</td>\n",
       "      <td>5</td>\n",
       "      <td>5</td>\n",
       "    </tr>\n",
       "    <tr>\n",
       "      <th>267708</th>\n",
       "      <td>1</td>\n",
       "      <td>199</td>\n",
       "      <td>202911.78</td>\n",
       "      <td>5</td>\n",
       "      <td>5</td>\n",
       "      <td>5</td>\n",
       "    </tr>\n",
       "    <tr>\n",
       "      <th>267729</th>\n",
       "      <td>4</td>\n",
       "      <td>5</td>\n",
       "      <td>33435.00</td>\n",
       "      <td>5</td>\n",
       "      <td>4</td>\n",
       "      <td>5</td>\n",
       "    </tr>\n",
       "    <tr>\n",
       "      <th>269220</th>\n",
       "      <td>3</td>\n",
       "      <td>4</td>\n",
       "      <td>7665.72</td>\n",
       "      <td>5</td>\n",
       "      <td>4</td>\n",
       "      <td>4</td>\n",
       "    </tr>\n",
       "    <tr>\n",
       "      <th>269241</th>\n",
       "      <td>214</td>\n",
       "      <td>1</td>\n",
       "      <td>769.56</td>\n",
       "      <td>1</td>\n",
       "      <td>1</td>\n",
       "      <td>1</td>\n",
       "    </tr>\n",
       "  </tbody>\n",
       "</table>\n",
       "</div>"
      ],
      "text/plain": [
       "        Recency  Frequency   Monetory  R  F  M\n",
       "UserId                                        \n",
       "267687        2         11   25484.82  5  5  5\n",
       "267708        1        199  202911.78  5  5  5\n",
       "267729        4          5   33435.00  5  4  5\n",
       "269220        3          4    7665.72  5  4  4\n",
       "269241      214          1     769.56  1  1  1"
      ]
     },
     "execution_count": 63,
     "metadata": {},
     "output_type": "execute_result"
    }
   ],
   "source": [
    "RFM_table.head()"
   ]
  },
  {
   "cell_type": "markdown",
   "metadata": {},
   "source": [
    "we got RFM scores\n",
    "\n",
    "Now, based on RFM scores we can segment our customers"
   ]
  },
  {
   "cell_type": "code",
   "execution_count": 64,
   "metadata": {},
   "outputs": [],
   "source": [
    "#combined score\n",
    "RFM_table['RFM Score'] = RFM_table['R'].map(str) + RFM_table['F'].map(str) + RFM_table['M'].map(str)\n"
   ]
  },
  {
   "cell_type": "code",
   "execution_count": 65,
   "metadata": {},
   "outputs": [
    {
     "data": {
      "text/html": [
       "<div>\n",
       "<style scoped>\n",
       "    .dataframe tbody tr th:only-of-type {\n",
       "        vertical-align: middle;\n",
       "    }\n",
       "\n",
       "    .dataframe tbody tr th {\n",
       "        vertical-align: top;\n",
       "    }\n",
       "\n",
       "    .dataframe thead th {\n",
       "        text-align: right;\n",
       "    }\n",
       "</style>\n",
       "<table border=\"1\" class=\"dataframe\">\n",
       "  <thead>\n",
       "    <tr style=\"text-align: right;\">\n",
       "      <th></th>\n",
       "      <th>Recency</th>\n",
       "      <th>Frequency</th>\n",
       "      <th>Monetory</th>\n",
       "      <th>R</th>\n",
       "      <th>F</th>\n",
       "      <th>M</th>\n",
       "      <th>RFM Score</th>\n",
       "    </tr>\n",
       "    <tr>\n",
       "      <th>UserId</th>\n",
       "      <th></th>\n",
       "      <th></th>\n",
       "      <th></th>\n",
       "      <th></th>\n",
       "      <th></th>\n",
       "      <th></th>\n",
       "      <th></th>\n",
       "    </tr>\n",
       "  </thead>\n",
       "  <tbody>\n",
       "    <tr>\n",
       "      <th>267687</th>\n",
       "      <td>2</td>\n",
       "      <td>11</td>\n",
       "      <td>25484.82</td>\n",
       "      <td>5</td>\n",
       "      <td>5</td>\n",
       "      <td>5</td>\n",
       "      <td>555</td>\n",
       "    </tr>\n",
       "    <tr>\n",
       "      <th>267708</th>\n",
       "      <td>1</td>\n",
       "      <td>199</td>\n",
       "      <td>202911.78</td>\n",
       "      <td>5</td>\n",
       "      <td>5</td>\n",
       "      <td>5</td>\n",
       "      <td>555</td>\n",
       "    </tr>\n",
       "    <tr>\n",
       "      <th>267729</th>\n",
       "      <td>4</td>\n",
       "      <td>5</td>\n",
       "      <td>33435.00</td>\n",
       "      <td>5</td>\n",
       "      <td>4</td>\n",
       "      <td>5</td>\n",
       "      <td>545</td>\n",
       "    </tr>\n",
       "    <tr>\n",
       "      <th>269220</th>\n",
       "      <td>3</td>\n",
       "      <td>4</td>\n",
       "      <td>7665.72</td>\n",
       "      <td>5</td>\n",
       "      <td>4</td>\n",
       "      <td>4</td>\n",
       "      <td>544</td>\n",
       "    </tr>\n",
       "    <tr>\n",
       "      <th>269241</th>\n",
       "      <td>214</td>\n",
       "      <td>1</td>\n",
       "      <td>769.56</td>\n",
       "      <td>1</td>\n",
       "      <td>1</td>\n",
       "      <td>1</td>\n",
       "      <td>111</td>\n",
       "    </tr>\n",
       "  </tbody>\n",
       "</table>\n",
       "</div>"
      ],
      "text/plain": [
       "        Recency  Frequency   Monetory  R  F  M RFM Score\n",
       "UserId                                                  \n",
       "267687        2         11   25484.82  5  5  5       555\n",
       "267708        1        199  202911.78  5  5  5       555\n",
       "267729        4          5   33435.00  5  4  5       545\n",
       "269220        3          4    7665.72  5  4  4       544\n",
       "269241      214          1     769.56  1  1  1       111"
      ]
     },
     "execution_count": 65,
     "metadata": {},
     "output_type": "execute_result"
    }
   ],
   "source": [
    "RFM_table.head()"
   ]
  },
  {
   "cell_type": "code",
   "execution_count": 66,
   "metadata": {},
   "outputs": [],
   "source": [
    "segt_map = {\n",
    "    r'[1-2][1-2]': 'hibernating',\n",
    "    r'[1-2][3-4]': 'at risk',\n",
    "    r'[1-2]5': 'can\\'t loose',\n",
    "    r'3[1-2]': 'about to sleep',\n",
    "    r'33': 'need attention',\n",
    "    r'[3-4][4-5]': 'loyal customers',\n",
    "    r'41': 'promising',\n",
    "    r'51': 'new customers',\n",
    "    r'[4-5][2-3]': 'potential loyalists',\n",
    "    r'5[4-5]': 'champions'\n",
    "}\n",
    "\n",
    "RFM_table['Segment'] = RFM_table['R'].map(str) + RFM_table['F'].map(str)\n",
    "RFM_table['Segment'] = RFM_table['Segment'].replace(segt_map, regex=True)"
   ]
  },
  {
   "cell_type": "code",
   "execution_count": 67,
   "metadata": {},
   "outputs": [
    {
     "data": {
      "text/html": [
       "<div>\n",
       "<style scoped>\n",
       "    .dataframe tbody tr th:only-of-type {\n",
       "        vertical-align: middle;\n",
       "    }\n",
       "\n",
       "    .dataframe tbody tr th {\n",
       "        vertical-align: top;\n",
       "    }\n",
       "\n",
       "    .dataframe thead th {\n",
       "        text-align: right;\n",
       "    }\n",
       "</style>\n",
       "<table border=\"1\" class=\"dataframe\">\n",
       "  <thead>\n",
       "    <tr style=\"text-align: right;\">\n",
       "      <th></th>\n",
       "      <th>Recency</th>\n",
       "      <th>Frequency</th>\n",
       "      <th>Monetory</th>\n",
       "      <th>R</th>\n",
       "      <th>F</th>\n",
       "      <th>M</th>\n",
       "      <th>RFM Score</th>\n",
       "      <th>Segment</th>\n",
       "    </tr>\n",
       "    <tr>\n",
       "      <th>UserId</th>\n",
       "      <th></th>\n",
       "      <th></th>\n",
       "      <th></th>\n",
       "      <th></th>\n",
       "      <th></th>\n",
       "      <th></th>\n",
       "      <th></th>\n",
       "      <th></th>\n",
       "    </tr>\n",
       "  </thead>\n",
       "  <tbody>\n",
       "    <tr>\n",
       "      <th>267687</th>\n",
       "      <td>2</td>\n",
       "      <td>11</td>\n",
       "      <td>25484.82</td>\n",
       "      <td>5</td>\n",
       "      <td>5</td>\n",
       "      <td>5</td>\n",
       "      <td>555</td>\n",
       "      <td>champions</td>\n",
       "    </tr>\n",
       "    <tr>\n",
       "      <th>267708</th>\n",
       "      <td>1</td>\n",
       "      <td>199</td>\n",
       "      <td>202911.78</td>\n",
       "      <td>5</td>\n",
       "      <td>5</td>\n",
       "      <td>5</td>\n",
       "      <td>555</td>\n",
       "      <td>champions</td>\n",
       "    </tr>\n",
       "    <tr>\n",
       "      <th>267729</th>\n",
       "      <td>4</td>\n",
       "      <td>5</td>\n",
       "      <td>33435.00</td>\n",
       "      <td>5</td>\n",
       "      <td>4</td>\n",
       "      <td>5</td>\n",
       "      <td>545</td>\n",
       "      <td>champions</td>\n",
       "    </tr>\n",
       "    <tr>\n",
       "      <th>269220</th>\n",
       "      <td>3</td>\n",
       "      <td>4</td>\n",
       "      <td>7665.72</td>\n",
       "      <td>5</td>\n",
       "      <td>4</td>\n",
       "      <td>4</td>\n",
       "      <td>544</td>\n",
       "      <td>champions</td>\n",
       "    </tr>\n",
       "    <tr>\n",
       "      <th>269241</th>\n",
       "      <td>214</td>\n",
       "      <td>1</td>\n",
       "      <td>769.56</td>\n",
       "      <td>1</td>\n",
       "      <td>1</td>\n",
       "      <td>1</td>\n",
       "      <td>111</td>\n",
       "      <td>hibernating</td>\n",
       "    </tr>\n",
       "  </tbody>\n",
       "</table>\n",
       "</div>"
      ],
      "text/plain": [
       "        Recency  Frequency   Monetory  R  F  M RFM Score      Segment\n",
       "UserId                                                               \n",
       "267687        2         11   25484.82  5  5  5       555    champions\n",
       "267708        1        199  202911.78  5  5  5       555    champions\n",
       "267729        4          5   33435.00  5  4  5       545    champions\n",
       "269220        3          4    7665.72  5  4  4       544    champions\n",
       "269241      214          1     769.56  1  1  1       111  hibernating"
      ]
     },
     "execution_count": 67,
     "metadata": {},
     "output_type": "execute_result"
    }
   ],
   "source": [
    "RFM_table.head()"
   ]
  },
  {
   "cell_type": "code",
   "execution_count": 68,
   "metadata": {},
   "outputs": [
    {
     "data": {
      "image/png": "[encoded data removed]",
      "text/plain": [
       "<Figure size 1440x720 with 1 Axes>"
      ]
     },
     "metadata": {
      "needs_background": "light"
     },
     "output_type": "display_data"
    }
   ],
   "source": [
    "# count the number of customers in each segment\n",
    "segments_counts = RFM_table['Segment'].value_counts().sort_values(ascending=True)\n",
    "fig, ax = plt.subplots(figsize=(20,10))\n",
    "bars = ax.barh(range(len(segments_counts)),\n",
    "              segments_counts,\n",
    "              color='lightgreen')\n",
    "ax.tick_params(left=False,\n",
    "               bottom=False,\n",
    "               labelbottom=False)\n",
    "ax.set_yticks(range(len(segments_counts)))\n",
    "ax.set_yticklabels(segments_counts.index)\n",
    "\n",
    "#for highlighting champions and loyal customers\n",
    "#printing percentages at the end\n",
    "for i, bar in enumerate(bars):\n",
    "        value = bar.get_width()\n",
    "        if segments_counts.index[i] in ['champions', 'loyal customers']:\n",
    "            bar.set_color('salmon')\n",
    "        ax.text(value,\n",
    "                bar.get_y() + bar.get_height()/2,\n",
    "                '{:,} ({:}%)'.format(int(value),\n",
    "                                   int(value*100/segments_counts.sum())),\n",
    "                va='center',\n",
    "                ha='left')\n",
    "plt.show()"
   ]
  },
  {
   "cell_type": "code",
   "execution_count": 69,
   "metadata": {},
   "outputs": [],
   "source": [
    "champions=RFM_table[RFM_table['Segment']=='champions']\n",
    "champions.to_csv('champions.csv')"
   ]
  },
  {
   "cell_type": "markdown",
   "metadata": {},
   "source": [
    "## we got our segments "
   ]
  },
  {
   "cell_type": "markdown",
   "metadata": {},
   "source": [
    "details of these segments is as follows:"
   ]
  },
  {
   "cell_type": "markdown",
   "metadata": {},
   "source": [
    "# 1. Champions\n",
    "    * Bought recently, buy often and spend the most\n"
   ]
  },
  {
   "cell_type": "markdown",
   "metadata": {},
   "source": [
    "# 2.Loyal Customers\n",
    "    * Buy on a regular basis. Responsive to promotions.\n"
   ]
  },
  {
   "cell_type": "markdown",
   "metadata": {},
   "source": [
    "# 3.Potential Loyalist\n",
    "    * Recent customers with average frequency.\n"
   ]
  },
  {
   "cell_type": "markdown",
   "metadata": {},
   "source": [
    "# 4.Recent Customers\n",
    "    * Bought most recently, but not often.\n"
   ]
  },
  {
   "cell_type": "markdown",
   "metadata": {},
   "source": [
    "# 5.Promising\n",
    "    * Recent shoppers, but haven’t spent much.\n"
   ]
  },
  {
   "cell_type": "markdown",
   "metadata": {},
   "source": [
    "# 6.Customers Needing Attention\n",
    "    * Above average recency, frequency and monetary values. May not have bought very recently though.\n"
   ]
  },
  {
   "cell_type": "markdown",
   "metadata": {},
   "source": [
    "# 7.About To Sleep\n",
    "    * Below average recency and frequency. Will lose them if not reactivated.\n"
   ]
  },
  {
   "cell_type": "markdown",
   "metadata": {},
   "source": [
    "# 8.At Risk\n",
    "    * Purchased often but a long time ago. Need to bring them back!\n"
   ]
  },
  {
   "cell_type": "markdown",
   "metadata": {},
   "source": [
    "# 9.Can’t Lose Them\n",
    "    * Used to purchase frequently but haven’t returned for a long time.\n"
   ]
  },
  {
   "cell_type": "markdown",
   "metadata": {},
   "source": [
    "# 10.Hibernating\n",
    "    * Last purchase was long back and low number of orders. May be lost."
   ]
  },
  {
   "cell_type": "markdown",
   "metadata": {},
   "source": [
    "# Visualization..."
   ]
  },
  {
   "cell_type": "code",
   "execution_count": 70,
   "metadata": {},
   "outputs": [
    {
     "data": {
      "text/plain": [
       "Text(0.5, 1.0, 'Recency Distribution')"
      ]
     },
     "execution_count": 70,
     "metadata": {},
     "output_type": "execute_result"
    },
    {
     "data": {
      "image/png": "[encoded data removed]",
      "text/plain": [
       "<Figure size 720x360 with 1 Axes>"
      ]
     },
     "metadata": {
      "needs_background": "light"
     },
     "output_type": "display_data"
    }
   ],
   "source": [
    "fig, ax = plt.subplots(figsize=(10,5))\n",
    "y = RFM_table['R'].value_counts().sort_index()\n",
    "x=y.index\n",
    "ax.bar(x,y,color=\"salmon\")\n",
    "ax.set_title('Recency Distribution')"
   ]
  },
  {
   "cell_type": "code",
   "execution_count": 71,
   "metadata": {},
   "outputs": [
    {
     "data": {
      "text/plain": [
       "1    760\n",
       "2    744\n",
       "3    753\n",
       "4    791\n",
       "5    764\n",
       "Name: R, dtype: int64"
      ]
     },
     "execution_count": 71,
     "metadata": {},
     "output_type": "execute_result"
    }
   ],
   "source": [
    "#number of customers in each R score\n",
    "RFM_table['R'].value_counts().sort_index()"
   ]
  },
  {
   "cell_type": "code",
   "execution_count": 72,
   "metadata": {},
   "outputs": [
    {
     "data": {
      "text/plain": [
       "4    20.750262\n",
       "5    20.041973\n",
       "1    19.937041\n",
       "3    19.753410\n",
       "2    19.517314\n",
       "Name: R, dtype: float64"
      ]
     },
     "execution_count": 72,
     "metadata": {},
     "output_type": "execute_result"
    }
   ],
   "source": [
    "# percentage of customers in each R score\n",
    "RFM_table['R'].value_counts()/len(RFM_table['R'])*100"
   ]
  },
  {
   "cell_type": "code",
   "execution_count": 73,
   "metadata": {},
   "outputs": [
    {
     "data": {
      "text/plain": [
       "Text(0.5, 1.0, 'Frequency Distribution')"
      ]
     },
     "execution_count": 73,
     "metadata": {},
     "output_type": "execute_result"
    },
    {
     "data": {
      "image/png": "[encoded data removed]",
      "text/plain": [
       "<Figure size 720x360 with 1 Axes>"
      ]
     },
     "metadata": {
      "needs_background": "light"
     },
     "output_type": "display_data"
    }
   ],
   "source": [
    "fig, ax = plt.subplots(figsize=(10,5))\n",
    "y = RFM_table['F'].value_counts().sort_index()\n",
    "x=y.index\n",
    "ax.bar(x,y,color=\"lightblue\")\n",
    "ax.set_title('Frequency Distribution')"
   ]
  },
  {
   "cell_type": "code",
   "execution_count": 74,
   "metadata": {},
   "outputs": [
    {
     "data": {
      "text/plain": [
       "1    1335\n",
       "2     737\n",
       "3     456\n",
       "4     545\n",
       "5     739\n",
       "Name: F, dtype: int64"
      ]
     },
     "execution_count": 74,
     "metadata": {},
     "output_type": "execute_result"
    }
   ],
   "source": [
    "#number of customers in each F score\n",
    "RFM_table['F'].value_counts().sort_index()"
   ]
  },
  {
   "cell_type": "code",
   "execution_count": 75,
   "metadata": {},
   "outputs": [
    {
     "data": {
      "text/plain": [
       "1    35.020986\n",
       "5    19.386149\n",
       "2    19.333683\n",
       "4    14.296957\n",
       "3    11.962225\n",
       "Name: F, dtype: float64"
      ]
     },
     "execution_count": 75,
     "metadata": {},
     "output_type": "execute_result"
    }
   ],
   "source": [
    "# percentage of customers in each F score\n",
    "RFM_table['F'].value_counts()/len(RFM_table['F'])*100"
   ]
  },
  {
   "cell_type": "code",
   "execution_count": 76,
   "metadata": {},
   "outputs": [
    {
     "data": {
      "text/plain": [
       "Text(0.5, 1.0, 'Monetory Distribution')"
      ]
     },
     "execution_count": 76,
     "metadata": {},
     "output_type": "execute_result"
    },
    {
     "data": {
      "image/png": "[encoded data removed]",
      "text/plain": [
       "<Figure size 720x360 with 1 Axes>"
      ]
     },
     "metadata": {
      "needs_background": "light"
     },
     "output_type": "display_data"
    }
   ],
   "source": [
    "fig, ax = plt.subplots(figsize=(10,5))\n",
    "y = RFM_table['M'].value_counts().sort_index()\n",
    "x=y.index\n",
    "ax.bar(x,y,color=\"lightgreen\")\n",
    "ax.set_title('Monetory Distribution')"
   ]
  },
  {
   "cell_type": "code",
   "execution_count": 77,
   "metadata": {},
   "outputs": [
    {
     "data": {
      "text/plain": [
       "5    20.015740\n",
       "1    20.015740\n",
       "3    19.989507\n",
       "4    19.989507\n",
       "2    19.989507\n",
       "Name: M, dtype: float64"
      ]
     },
     "execution_count": 77,
     "metadata": {},
     "output_type": "execute_result"
    }
   ],
   "source": [
    "# percentage of customers in each M score\n",
    "RFM_table['M'].value_counts()/len(RFM_table['M'])*100"
   ]
  },
  {
   "cell_type": "code",
   "execution_count": 78,
   "metadata": {},
   "outputs": [
    {
     "data": {
      "text/plain": [
       "5    20.015740\n",
       "1    20.015740\n",
       "3    19.989507\n",
       "4    19.989507\n",
       "2    19.989507\n",
       "Name: M, dtype: float64"
      ]
     },
     "execution_count": 78,
     "metadata": {},
     "output_type": "execute_result"
    }
   ],
   "source": [
    "# percentage of customers in each R score\n",
    "RFM_table['M'].value_counts()/len(RFM_table['M'])*100"
   ]
  },
  {
   "cell_type": "code",
   "execution_count": 79,
   "metadata": {},
   "outputs": [
    {
     "data": {
      "text/plain": [
       "hibernating            1176\n",
       "loyal customers         584\n",
       "champions               524\n",
       "potential loyalists     453\n",
       "about to sleep          424\n",
       "at risk                 272\n",
       "promising               157\n",
       "need attention          107\n",
       "new customers            59\n",
       "can't loose              56\n",
       "Name: Segment, dtype: int64"
      ]
     },
     "execution_count": 79,
     "metadata": {},
     "output_type": "execute_result"
    }
   ],
   "source": [
    "#customers in each segment\n",
    "RFM_table['Segment'].value_counts()"
   ]
  },
  {
   "cell_type": "code",
   "execution_count": 80,
   "metadata": {},
   "outputs": [
    {
     "data": {
      "text/plain": [
       "hibernating            0.308499\n",
       "loyal customers        0.153200\n",
       "champions              0.137461\n",
       "potential loyalists    0.118835\n",
       "about to sleep         0.111228\n",
       "at risk                0.071354\n",
       "promising              0.041186\n",
       "need attention         0.028069\n",
       "new customers          0.015477\n",
       "can't loose            0.014690\n",
       "Name: Segment, dtype: float64"
      ]
     },
     "execution_count": 80,
     "metadata": {},
     "output_type": "execute_result"
    }
   ],
   "source": [
    "#percentage of customers in each segment\n",
    "RFM_table['Segment'].value_counts()/len(RFM_table['Segment'])"
   ]
  },
  {
   "cell_type": "markdown",
   "metadata": {},
   "source": [
    "From above data:\n",
    "    1. Most of the customers about 30% are in \"hibernating\" segment.\n",
    "    2. we have good number of \"champions\" ans \"loyal customers\" about nearly 14% and 15% respectively.\n",
    "    3. nearly 12% of \"potential loyalists\" and 11% of customers are \"about to sleep\".\n",
    "    4. \"promising\" customers are 4% and 2% customers need attention\n",
    "    5. Less number of \"new customers\" and customers \"we can't loose\"."
   ]
  },
  {
   "cell_type": "markdown",
   "metadata": {},
   "source": [
    "Since most of the customers are \"hibernating\", we have to know about their areas of interest and give offers or subsidies into order to make them active."
   ]
  },
  {
   "cell_type": "code",
   "execution_count": 81,
   "metadata": {},
   "outputs": [
    {
     "data": {
      "text/plain": [
       "Text(0, 0.5, 'Frequency')"
      ]
     },
     "execution_count": 81,
     "metadata": {},
     "output_type": "execute_result"
    },
    {
     "data": {
      "image/png": "[encoded data removed]",
      "text/plain": [
       "<Figure size 432x288 with 1 Axes>"
      ]
     },
     "metadata": {
      "needs_background": "light"
     },
     "output_type": "display_data"
    }
   ],
   "source": [
    "# recency vs frequency plot\n",
    "plt.bar(RFM_table['Recency'], RFM_table['Frequency'])\n",
    "plt.xlabel('Recency')\n",
    "plt.ylabel('Frequency')"
   ]
  },
  {
   "cell_type": "markdown",
   "metadata": {},
   "source": [
    "This shows that recently purchased customers are more active"
   ]
  },
  {
   "cell_type": "markdown",
   "metadata": {},
   "source": [
    "if recency goes on decreasing the frequency also decresing."
   ]
  },
  {
   "cell_type": "code",
   "execution_count": 82,
   "metadata": {},
   "outputs": [
    {
     "data": {
      "text/html": [
       "<div>\n",
       "<style scoped>\n",
       "    .dataframe tbody tr th:only-of-type {\n",
       "        vertical-align: middle;\n",
       "    }\n",
       "\n",
       "    .dataframe tbody tr th {\n",
       "        vertical-align: top;\n",
       "    }\n",
       "\n",
       "    .dataframe thead th {\n",
       "        text-align: right;\n",
       "    }\n",
       "</style>\n",
       "<table border=\"1\" class=\"dataframe\">\n",
       "  <thead>\n",
       "    <tr style=\"text-align: right;\">\n",
       "      <th></th>\n",
       "      <th>Recency</th>\n",
       "      <th>Frequency</th>\n",
       "      <th>Monetory</th>\n",
       "      <th>R</th>\n",
       "      <th>F</th>\n",
       "      <th>M</th>\n",
       "      <th>RFM Score</th>\n",
       "      <th>Segment</th>\n",
       "    </tr>\n",
       "    <tr>\n",
       "      <th>UserId</th>\n",
       "      <th></th>\n",
       "      <th></th>\n",
       "      <th></th>\n",
       "      <th></th>\n",
       "      <th></th>\n",
       "      <th></th>\n",
       "      <th></th>\n",
       "      <th></th>\n",
       "    </tr>\n",
       "  </thead>\n",
       "  <tbody>\n",
       "    <tr>\n",
       "      <th>267687</th>\n",
       "      <td>2</td>\n",
       "      <td>11</td>\n",
       "      <td>25484.82</td>\n",
       "      <td>5</td>\n",
       "      <td>5</td>\n",
       "      <td>5</td>\n",
       "      <td>555</td>\n",
       "      <td>champions</td>\n",
       "    </tr>\n",
       "    <tr>\n",
       "      <th>267708</th>\n",
       "      <td>1</td>\n",
       "      <td>199</td>\n",
       "      <td>202911.78</td>\n",
       "      <td>5</td>\n",
       "      <td>5</td>\n",
       "      <td>5</td>\n",
       "      <td>555</td>\n",
       "      <td>champions</td>\n",
       "    </tr>\n",
       "    <tr>\n",
       "      <th>267729</th>\n",
       "      <td>4</td>\n",
       "      <td>5</td>\n",
       "      <td>33435.00</td>\n",
       "      <td>5</td>\n",
       "      <td>4</td>\n",
       "      <td>5</td>\n",
       "      <td>545</td>\n",
       "      <td>champions</td>\n",
       "    </tr>\n",
       "    <tr>\n",
       "      <th>269220</th>\n",
       "      <td>3</td>\n",
       "      <td>4</td>\n",
       "      <td>7665.72</td>\n",
       "      <td>5</td>\n",
       "      <td>4</td>\n",
       "      <td>4</td>\n",
       "      <td>544</td>\n",
       "      <td>champions</td>\n",
       "    </tr>\n",
       "    <tr>\n",
       "      <th>269241</th>\n",
       "      <td>214</td>\n",
       "      <td>1</td>\n",
       "      <td>769.56</td>\n",
       "      <td>1</td>\n",
       "      <td>1</td>\n",
       "      <td>1</td>\n",
       "      <td>111</td>\n",
       "      <td>hibernating</td>\n",
       "    </tr>\n",
       "  </tbody>\n",
       "</table>\n",
       "</div>"
      ],
      "text/plain": [
       "        Recency  Frequency   Monetory  R  F  M RFM Score      Segment\n",
       "UserId                                                               \n",
       "267687        2         11   25484.82  5  5  5       555    champions\n",
       "267708        1        199  202911.78  5  5  5       555    champions\n",
       "267729        4          5   33435.00  5  4  5       545    champions\n",
       "269220        3          4    7665.72  5  4  4       544    champions\n",
       "269241      214          1     769.56  1  1  1       111  hibernating"
      ]
     },
     "execution_count": 82,
     "metadata": {},
     "output_type": "execute_result"
    }
   ],
   "source": [
    "RFM_table.head()"
   ]
  },
  {
   "cell_type": "code",
   "execution_count": 83,
   "metadata": {},
   "outputs": [
    {
     "data": {
      "text/plain": [
       "<BarContainer object of 5 artists>"
      ]
     },
     "execution_count": 83,
     "metadata": {},
     "output_type": "execute_result"
    },
    {
     "data": {
      "image/png": "[encoded data removed]",
      "text/plain": [
       "<Figure size 432x288 with 1 Axes>"
      ]
     },
     "metadata": {
      "needs_background": "light"
     },
     "output_type": "display_data"
    }
   ],
   "source": [
    "# Monetory graph for R_score = 1 and F_score = 1\n",
    "y = RFM_table[(RFM_table['R'] == 1) & (RFM_table['F'] == 1)]['M'].value_counts().sort_index()\n",
    "x = y.index\n",
    "plt.bar(x,y,color='salmon')"
   ]
  },
  {
   "cell_type": "code",
   "execution_count": 84,
   "metadata": {},
   "outputs": [
    {
     "data": {
      "text/plain": [
       "<BarContainer object of 4 artists>"
      ]
     },
     "execution_count": 84,
     "metadata": {},
     "output_type": "execute_result"
    },
    {
     "data": {
      "image/png": "[encoded data removed]",
      "text/plain": [
       "<Figure size 432x288 with 1 Axes>"
      ]
     },
     "metadata": {
      "needs_background": "light"
     },
     "output_type": "display_data"
    }
   ],
   "source": [
    "# Monetory graph for R_score = 5 and F_score = 5\n",
    "y = RFM_table[(RFM_table['R'] == 5) & (RFM_table['F'] == 5)]['M'].value_counts().sort_index()\n",
    "x = y.index\n",
    "plt.bar(x,y,color='salmon')"
   ]
  },
  {
   "cell_type": "markdown",
   "metadata": {},
   "source": [
    "like wise we will get 25 plots....let's plot all using subplots"
   ]
  },
  {
   "cell_type": "code",
   "execution_count": 85,
   "metadata": {},
   "outputs": [
    {
     "data": {
      "image/png": "[encoded data removed]",
      "text/plain": [
       "<Figure size 720x720 with 25 Axes>"
      ]
     },
     "metadata": {
      "needs_background": "light"
     },
     "output_type": "display_data"
    }
   ],
   "source": [
    "fig, axes = plt.subplots(5,5,figsize=(10, 10),sharex=False, sharey=True)\n",
    "\n",
    "for r in range(1,6):\n",
    "    for f in range(1,6):\n",
    "        y = RFM_table[(RFM_table['R'] == r) & (RFM_table['F'] == f)]['M'].value_counts().sort_index()\n",
    "        x = y.index\n",
    "        ax = axes[r-1,f-1]\n",
    "        bar = ax.bar(x, y, color='purple')\n",
    "        ax.set_frame_on(False)\n",
    "        ax.tick_params(left=False, labelleft=False, bottom=False)\n",
    "        ax.set_xticks(x)\n",
    "        ax.set_xticklabels(x, fontsize=8)\n",
    "        if r == 5:\n",
    "            if f == 3:\n",
    "                ax.set_xlabel('{}\\nF'.format(f), va='top')\n",
    "            else:\n",
    "                ax.set_xlabel('{}\\n'.format(f), va='top')\n",
    "        if f == 1:\n",
    "            if r == 3:\n",
    "                ax.set_ylabel('R\\n{}'.format(r))\n",
    "            else:\n",
    "                ax.set_ylabel(r)\n",
    "fig.suptitle('Distribution of M for each F and R',\n",
    "             fontsize=14)\n",
    "plt.show()"
   ]
  },
  {
   "cell_type": "markdown",
   "metadata": {},
   "source": [
    "here we can see how Monetry changes for each R_scores and F_score"
   ]
  },
  {
   "cell_type": "markdown",
   "metadata": {},
   "source": [
    "# * Segmentation using K-Means clustering *"
   ]
  },
  {
   "cell_type": "code",
   "execution_count": 86,
   "metadata": {},
   "outputs": [
    {
     "data": {
      "text/html": [
       "<div>\n",
       "<style scoped>\n",
       "    .dataframe tbody tr th:only-of-type {\n",
       "        vertical-align: middle;\n",
       "    }\n",
       "\n",
       "    .dataframe tbody tr th {\n",
       "        vertical-align: top;\n",
       "    }\n",
       "\n",
       "    .dataframe thead th {\n",
       "        text-align: right;\n",
       "    }\n",
       "</style>\n",
       "<table border=\"1\" class=\"dataframe\">\n",
       "  <thead>\n",
       "    <tr style=\"text-align: right;\">\n",
       "      <th></th>\n",
       "      <th>UserId</th>\n",
       "      <th>TransactionId</th>\n",
       "      <th>ItemCode</th>\n",
       "      <th>ItemDescription</th>\n",
       "      <th>NumberOfItemsPurchased</th>\n",
       "      <th>CostPerItem</th>\n",
       "      <th>Date_Time</th>\n",
       "      <th>Week_day</th>\n",
       "      <th>Total_Price</th>\n",
       "    </tr>\n",
       "  </thead>\n",
       "  <tbody>\n",
       "    <tr>\n",
       "      <th>0</th>\n",
       "      <td>278166</td>\n",
       "      <td>6355745</td>\n",
       "      <td>465549</td>\n",
       "      <td>FAMILY ALBUM WHITE PICTURE FRAME</td>\n",
       "      <td>6</td>\n",
       "      <td>11.73</td>\n",
       "      <td>2019-02-02 12:50:00</td>\n",
       "      <td>Sat</td>\n",
       "      <td>70.38</td>\n",
       "    </tr>\n",
       "    <tr>\n",
       "      <th>1</th>\n",
       "      <td>337701</td>\n",
       "      <td>6283376</td>\n",
       "      <td>482370</td>\n",
       "      <td>LONDON BUS COFFEE MUG</td>\n",
       "      <td>3</td>\n",
       "      <td>3.52</td>\n",
       "      <td>2018-12-26 09:06:00</td>\n",
       "      <td>Wed</td>\n",
       "      <td>10.56</td>\n",
       "    </tr>\n",
       "    <tr>\n",
       "      <th>3</th>\n",
       "      <td>380478</td>\n",
       "      <td>6044973</td>\n",
       "      <td>459186</td>\n",
       "      <td>UNION JACK FLAG LUGGAGE TAG</td>\n",
       "      <td>3</td>\n",
       "      <td>1.73</td>\n",
       "      <td>2018-06-22 07:14:00</td>\n",
       "      <td>Fri</td>\n",
       "      <td>5.19</td>\n",
       "    </tr>\n",
       "    <tr>\n",
       "      <th>5</th>\n",
       "      <td>285957</td>\n",
       "      <td>6307136</td>\n",
       "      <td>1787247</td>\n",
       "      <td>CUT GLASS T-LIGHT HOLDER OCTAGON</td>\n",
       "      <td>12</td>\n",
       "      <td>3.52</td>\n",
       "      <td>2019-01-11 09:50:00</td>\n",
       "      <td>Fri</td>\n",
       "      <td>42.24</td>\n",
       "    </tr>\n",
       "    <tr>\n",
       "      <th>6</th>\n",
       "      <td>345954</td>\n",
       "      <td>6162981</td>\n",
       "      <td>471576</td>\n",
       "      <td>NATURAL SLATE CHALKBOARD LARGE</td>\n",
       "      <td>9</td>\n",
       "      <td>6.84</td>\n",
       "      <td>2018-09-28 10:51:00</td>\n",
       "      <td>Fri</td>\n",
       "      <td>61.56</td>\n",
       "    </tr>\n",
       "  </tbody>\n",
       "</table>\n",
       "</div>"
      ],
      "text/plain": [
       "   UserId  TransactionId  ItemCode                   ItemDescription  \\\n",
       "0  278166        6355745    465549  FAMILY ALBUM WHITE PICTURE FRAME   \n",
       "1  337701        6283376    482370             LONDON BUS COFFEE MUG   \n",
       "3  380478        6044973    459186       UNION JACK FLAG LUGGAGE TAG   \n",
       "5  285957        6307136   1787247  CUT GLASS T-LIGHT HOLDER OCTAGON   \n",
       "6  345954        6162981    471576   NATURAL SLATE CHALKBOARD LARGE    \n",
       "\n",
       "   NumberOfItemsPurchased  CostPerItem           Date_Time Week_day  \\\n",
       "0                       6        11.73 2019-02-02 12:50:00      Sat   \n",
       "1                       3         3.52 2018-12-26 09:06:00      Wed   \n",
       "3                       3         1.73 2018-06-22 07:14:00      Fri   \n",
       "5                      12         3.52 2019-01-11 09:50:00      Fri   \n",
       "6                       9         6.84 2018-09-28 10:51:00      Fri   \n",
       "\n",
       "   Total_Price  \n",
       "0        70.38  \n",
       "1        10.56  \n",
       "3         5.19  \n",
       "5        42.24  \n",
       "6        61.56  "
      ]
     },
     "execution_count": 86,
     "metadata": {},
     "output_type": "execute_result"
    }
   ],
   "source": [
    "df_clean.head()"
   ]
  },
  {
   "cell_type": "code",
   "execution_count": 87,
   "metadata": {},
   "outputs": [
    {
     "data": {
      "text/html": [
       "<div>\n",
       "<style scoped>\n",
       "    .dataframe tbody tr th:only-of-type {\n",
       "        vertical-align: middle;\n",
       "    }\n",
       "\n",
       "    .dataframe tbody tr th {\n",
       "        vertical-align: top;\n",
       "    }\n",
       "\n",
       "    .dataframe thead th {\n",
       "        text-align: right;\n",
       "    }\n",
       "</style>\n",
       "<table border=\"1\" class=\"dataframe\">\n",
       "  <thead>\n",
       "    <tr style=\"text-align: right;\">\n",
       "      <th></th>\n",
       "      <th>Recency</th>\n",
       "      <th>Frequency</th>\n",
       "      <th>Monetory</th>\n",
       "      <th>R</th>\n",
       "      <th>F</th>\n",
       "      <th>M</th>\n",
       "      <th>RFM Score</th>\n",
       "      <th>Segment</th>\n",
       "    </tr>\n",
       "    <tr>\n",
       "      <th>UserId</th>\n",
       "      <th></th>\n",
       "      <th></th>\n",
       "      <th></th>\n",
       "      <th></th>\n",
       "      <th></th>\n",
       "      <th></th>\n",
       "      <th></th>\n",
       "      <th></th>\n",
       "    </tr>\n",
       "  </thead>\n",
       "  <tbody>\n",
       "    <tr>\n",
       "      <th>267687</th>\n",
       "      <td>2</td>\n",
       "      <td>11</td>\n",
       "      <td>25484.82</td>\n",
       "      <td>5</td>\n",
       "      <td>5</td>\n",
       "      <td>5</td>\n",
       "      <td>555</td>\n",
       "      <td>champions</td>\n",
       "    </tr>\n",
       "    <tr>\n",
       "      <th>267708</th>\n",
       "      <td>1</td>\n",
       "      <td>199</td>\n",
       "      <td>202911.78</td>\n",
       "      <td>5</td>\n",
       "      <td>5</td>\n",
       "      <td>5</td>\n",
       "      <td>555</td>\n",
       "      <td>champions</td>\n",
       "    </tr>\n",
       "    <tr>\n",
       "      <th>267729</th>\n",
       "      <td>4</td>\n",
       "      <td>5</td>\n",
       "      <td>33435.00</td>\n",
       "      <td>5</td>\n",
       "      <td>4</td>\n",
       "      <td>5</td>\n",
       "      <td>545</td>\n",
       "      <td>champions</td>\n",
       "    </tr>\n",
       "    <tr>\n",
       "      <th>269220</th>\n",
       "      <td>3</td>\n",
       "      <td>4</td>\n",
       "      <td>7665.72</td>\n",
       "      <td>5</td>\n",
       "      <td>4</td>\n",
       "      <td>4</td>\n",
       "      <td>544</td>\n",
       "      <td>champions</td>\n",
       "    </tr>\n",
       "    <tr>\n",
       "      <th>269241</th>\n",
       "      <td>214</td>\n",
       "      <td>1</td>\n",
       "      <td>769.56</td>\n",
       "      <td>1</td>\n",
       "      <td>1</td>\n",
       "      <td>1</td>\n",
       "      <td>111</td>\n",
       "      <td>hibernating</td>\n",
       "    </tr>\n",
       "  </tbody>\n",
       "</table>\n",
       "</div>"
      ],
      "text/plain": [
       "        Recency  Frequency   Monetory  R  F  M RFM Score      Segment\n",
       "UserId                                                               \n",
       "267687        2         11   25484.82  5  5  5       555    champions\n",
       "267708        1        199  202911.78  5  5  5       555    champions\n",
       "267729        4          5   33435.00  5  4  5       545    champions\n",
       "269220        3          4    7665.72  5  4  4       544    champions\n",
       "269241      214          1     769.56  1  1  1       111  hibernating"
      ]
     },
     "execution_count": 87,
     "metadata": {},
     "output_type": "execute_result"
    }
   ],
   "source": [
    "RFM_table.head()"
   ]
  },
  {
   "cell_type": "code",
   "execution_count": 88,
   "metadata": {},
   "outputs": [],
   "source": [
    "#we can use Recency, Frequency and Monetory features\n",
    "\n",
    "rfm_data=RFM_table.drop(['R','F','M','RFM Score','Segment'],axis=1)"
   ]
  },
  {
   "cell_type": "code",
   "execution_count": 89,
   "metadata": {},
   "outputs": [
    {
     "data": {
      "text/html": [
       "<div>\n",
       "<style scoped>\n",
       "    .dataframe tbody tr th:only-of-type {\n",
       "        vertical-align: middle;\n",
       "    }\n",
       "\n",
       "    .dataframe tbody tr th {\n",
       "        vertical-align: top;\n",
       "    }\n",
       "\n",
       "    .dataframe thead th {\n",
       "        text-align: right;\n",
       "    }\n",
       "</style>\n",
       "<table border=\"1\" class=\"dataframe\">\n",
       "  <thead>\n",
       "    <tr style=\"text-align: right;\">\n",
       "      <th></th>\n",
       "      <th>Recency</th>\n",
       "      <th>Frequency</th>\n",
       "      <th>Monetory</th>\n",
       "    </tr>\n",
       "    <tr>\n",
       "      <th>UserId</th>\n",
       "      <th></th>\n",
       "      <th></th>\n",
       "      <th></th>\n",
       "    </tr>\n",
       "  </thead>\n",
       "  <tbody>\n",
       "    <tr>\n",
       "      <th>267687</th>\n",
       "      <td>2</td>\n",
       "      <td>11</td>\n",
       "      <td>25484.82</td>\n",
       "    </tr>\n",
       "    <tr>\n",
       "      <th>267708</th>\n",
       "      <td>1</td>\n",
       "      <td>199</td>\n",
       "      <td>202911.78</td>\n",
       "    </tr>\n",
       "    <tr>\n",
       "      <th>267729</th>\n",
       "      <td>4</td>\n",
       "      <td>5</td>\n",
       "      <td>33435.00</td>\n",
       "    </tr>\n",
       "    <tr>\n",
       "      <th>269220</th>\n",
       "      <td>3</td>\n",
       "      <td>4</td>\n",
       "      <td>7665.72</td>\n",
       "    </tr>\n",
       "    <tr>\n",
       "      <th>269241</th>\n",
       "      <td>214</td>\n",
       "      <td>1</td>\n",
       "      <td>769.56</td>\n",
       "    </tr>\n",
       "  </tbody>\n",
       "</table>\n",
       "</div>"
      ],
      "text/plain": [
       "        Recency  Frequency   Monetory\n",
       "UserId                               \n",
       "267687        2         11   25484.82\n",
       "267708        1        199  202911.78\n",
       "267729        4          5   33435.00\n",
       "269220        3          4    7665.72\n",
       "269241      214          1     769.56"
      ]
     },
     "execution_count": 89,
     "metadata": {},
     "output_type": "execute_result"
    }
   ],
   "source": [
    "rfm_data.head()"
   ]
  },
  {
   "cell_type": "code",
   "execution_count": 90,
   "metadata": {},
   "outputs": [],
   "source": [
    "#we have normalize the Recency, Frequency and Monetory columns before fitting into a machine learning model\n",
    "rfm_log = np.log(rfm_data)"
   ]
  },
  {
   "cell_type": "code",
   "execution_count": 91,
   "metadata": {},
   "outputs": [
    {
     "data": {
      "text/html": [
       "<div>\n",
       "<style scoped>\n",
       "    .dataframe tbody tr th:only-of-type {\n",
       "        vertical-align: middle;\n",
       "    }\n",
       "\n",
       "    .dataframe tbody tr th {\n",
       "        vertical-align: top;\n",
       "    }\n",
       "\n",
       "    .dataframe thead th {\n",
       "        text-align: right;\n",
       "    }\n",
       "</style>\n",
       "<table border=\"1\" class=\"dataframe\">\n",
       "  <thead>\n",
       "    <tr style=\"text-align: right;\">\n",
       "      <th></th>\n",
       "      <th>Recency</th>\n",
       "      <th>Frequency</th>\n",
       "      <th>Monetory</th>\n",
       "    </tr>\n",
       "    <tr>\n",
       "      <th>UserId</th>\n",
       "      <th></th>\n",
       "      <th></th>\n",
       "      <th></th>\n",
       "    </tr>\n",
       "  </thead>\n",
       "  <tbody>\n",
       "    <tr>\n",
       "      <th>267687</th>\n",
       "      <td>0.693147</td>\n",
       "      <td>2.397895</td>\n",
       "      <td>10.145838</td>\n",
       "    </tr>\n",
       "    <tr>\n",
       "      <th>267708</th>\n",
       "      <td>0.000000</td>\n",
       "      <td>5.293305</td>\n",
       "      <td>12.220527</td>\n",
       "    </tr>\n",
       "    <tr>\n",
       "      <th>267729</th>\n",
       "      <td>1.386294</td>\n",
       "      <td>1.609438</td>\n",
       "      <td>10.417359</td>\n",
       "    </tr>\n",
       "    <tr>\n",
       "      <th>269220</th>\n",
       "      <td>1.098612</td>\n",
       "      <td>1.386294</td>\n",
       "      <td>8.944514</td>\n",
       "    </tr>\n",
       "    <tr>\n",
       "      <th>269241</th>\n",
       "      <td>5.365976</td>\n",
       "      <td>0.000000</td>\n",
       "      <td>6.645819</td>\n",
       "    </tr>\n",
       "  </tbody>\n",
       "</table>\n",
       "</div>"
      ],
      "text/plain": [
       "         Recency  Frequency   Monetory\n",
       "UserId                                \n",
       "267687  0.693147   2.397895  10.145838\n",
       "267708  0.000000   5.293305  12.220527\n",
       "267729  1.386294   1.609438  10.417359\n",
       "269220  1.098612   1.386294   8.944514\n",
       "269241  5.365976   0.000000   6.645819"
      ]
     },
     "execution_count": 91,
     "metadata": {},
     "output_type": "execute_result"
    }
   ],
   "source": [
    "rfm_log.head()"
   ]
  },
  {
   "cell_type": "code",
   "execution_count": 92,
   "metadata": {},
   "outputs": [
    {
     "data": {
      "text/plain": [
       "<matplotlib.axes._subplots.AxesSubplot at 0x18f37cf26c8>"
      ]
     },
     "execution_count": 92,
     "metadata": {},
     "output_type": "execute_result"
    },
    {
     "data": {
      "image/png": "[encoded data removed]",
      "text/plain": [
       "<Figure size 432x288 with 1 Axes>"
      ]
     },
     "metadata": {
      "needs_background": "light"
     },
     "output_type": "display_data"
    }
   ],
   "source": [
    "#let's plot\n",
    "sns.distplot(rfm_log['Recency'])"
   ]
  },
  {
   "cell_type": "code",
   "execution_count": 93,
   "metadata": {},
   "outputs": [
    {
     "data": {
      "text/plain": [
       "<matplotlib.axes._subplots.AxesSubplot at 0x18f373eb748>"
      ]
     },
     "execution_count": 93,
     "metadata": {},
     "output_type": "execute_result"
    },
    {
     "data": {
      "image/png": "[encoded data removed]",
      "text/plain": [
       "<Figure size 432x288 with 1 Axes>"
      ]
     },
     "metadata": {
      "needs_background": "light"
     },
     "output_type": "display_data"
    }
   ],
   "source": [
    "sns.distplot(rfm_log['Frequency'])"
   ]
  },
  {
   "cell_type": "code",
   "execution_count": 94,
   "metadata": {},
   "outputs": [
    {
     "data": {
      "text/plain": [
       "<matplotlib.axes._subplots.AxesSubplot at 0x18f37d64688>"
      ]
     },
     "execution_count": 94,
     "metadata": {},
     "output_type": "execute_result"
    },
    {
     "data": {
      "image/png": "[encoded data removed]",
      "text/plain": [
       "<Figure size 432x288 with 1 Axes>"
      ]
     },
     "metadata": {
      "needs_background": "light"
     },
     "output_type": "display_data"
    }
   ],
   "source": [
    "sns.distplot(rfm_log['Monetory'])"
   ]
  },
  {
   "cell_type": "code",
   "execution_count": 95,
   "metadata": {},
   "outputs": [],
   "source": [
    "#we should also standardize\n",
    "from sklearn.preprocessing import StandardScaler"
   ]
  },
  {
   "cell_type": "code",
   "execution_count": 96,
   "metadata": {},
   "outputs": [
    {
     "data": {
      "text/plain": [
       "StandardScaler(copy=True, with_mean=True, with_std=True)"
      ]
     },
     "execution_count": 96,
     "metadata": {},
     "output_type": "execute_result"
    }
   ],
   "source": [
    "scaler=StandardScaler()\n",
    "scaler.fit(rfm_log)"
   ]
  },
  {
   "cell_type": "code",
   "execution_count": 97,
   "metadata": {},
   "outputs": [],
   "source": [
    "rfm_normalized = scaler.transform(rfm_log)"
   ]
  },
  {
   "cell_type": "code",
   "execution_count": 98,
   "metadata": {},
   "outputs": [],
   "source": [
    "# it's time to import kmeans\n",
    "from sklearn.cluster import KMeans"
   ]
  },
  {
   "cell_type": "code",
   "execution_count": 99,
   "metadata": {},
   "outputs": [],
   "source": [
    "# sse - sum of squared errors\n",
    "sse={}\n",
    "for k in range(1,10):\n",
    "    kmeans = KMeans(n_clusters=k, random_state=1)\n",
    "    kmeans.fit(rfm_normalized)\n",
    "    sse[k] = kmeans.inertia_"
   ]
  },
  {
   "cell_type": "code",
   "execution_count": 100,
   "metadata": {},
   "outputs": [
    {
     "data": {
      "image/png": "[encoded data removed]",
      "text/plain": [
       "<Figure size 432x288 with 1 Axes>"
      ]
     },
     "metadata": {
      "needs_background": "light"
     },
     "output_type": "display_data"
    }
   ],
   "source": [
    "#elbow method to estimate k\n",
    "sns.pointplot(x=list(sse.keys()), y=list(sse.values()))\n",
    "plt.title('The Elbow Method')\n",
    "plt.xlabel('k'); \n",
    "plt.ylabel('SSE')\n",
    "plt.show()"
   ]
  },
  {
   "cell_type": "code",
   "execution_count": 101,
   "metadata": {},
   "outputs": [],
   "source": [
    "# taking num of clusters=4\n",
    "kmeans1 = KMeans(n_clusters=4)\n",
    "kmeans1.fit(rfm_normalized)\n",
    "y_kmeans = kmeans1.predict(rfm_normalized)\n",
    "cluster_labels = kmeans1.labels_"
   ]
  },
  {
   "cell_type": "code",
   "execution_count": 102,
   "metadata": {},
   "outputs": [
    {
     "data": {
      "image/png": "[encoded data removed]",
      "text/plain": [
       "<Figure size 432x288 with 1 Axes>"
      ]
     },
     "metadata": {
      "needs_background": "light"
     },
     "output_type": "display_data"
    }
   ],
   "source": [
    "X=rfm_normalized\n",
    "plt.scatter(X[:,0], X[:,1], c=y_kmeans, cmap='rainbow')\n",
    "centers = kmeans1.cluster_centers_\n",
    "plt.scatter(centers[:,0],centers[:,1], c='black', s=200, alpha=0.5);"
   ]
  },
  {
   "cell_type": "code",
   "execution_count": 103,
   "metadata": {},
   "outputs": [
    {
     "data": {
      "text/html": [
       "<div>\n",
       "<style scoped>\n",
       "    .dataframe tbody tr th:only-of-type {\n",
       "        vertical-align: middle;\n",
       "    }\n",
       "\n",
       "    .dataframe tbody tr th {\n",
       "        vertical-align: top;\n",
       "    }\n",
       "\n",
       "    .dataframe thead tr th {\n",
       "        text-align: left;\n",
       "    }\n",
       "\n",
       "    .dataframe thead tr:last-of-type th {\n",
       "        text-align: right;\n",
       "    }\n",
       "</style>\n",
       "<table border=\"1\" class=\"dataframe\">\n",
       "  <thead>\n",
       "    <tr>\n",
       "      <th></th>\n",
       "      <th>Recency</th>\n",
       "      <th>Frequency</th>\n",
       "      <th colspan=\"2\" halign=\"left\">Monetory</th>\n",
       "    </tr>\n",
       "    <tr>\n",
       "      <th></th>\n",
       "      <th>mean</th>\n",
       "      <th>mean</th>\n",
       "      <th>mean</th>\n",
       "      <th>count</th>\n",
       "    </tr>\n",
       "    <tr>\n",
       "      <th>Cluster</th>\n",
       "      <th></th>\n",
       "      <th></th>\n",
       "      <th></th>\n",
       "      <th></th>\n",
       "    </tr>\n",
       "  </thead>\n",
       "  <tbody>\n",
       "    <tr>\n",
       "      <th>0</th>\n",
       "      <td>182.0</td>\n",
       "      <td>1.0</td>\n",
       "      <td>2149.0</td>\n",
       "      <td>1353</td>\n",
       "    </tr>\n",
       "    <tr>\n",
       "      <th>1</th>\n",
       "      <td>12.0</td>\n",
       "      <td>12.0</td>\n",
       "      <td>147897.0</td>\n",
       "      <td>691</td>\n",
       "    </tr>\n",
       "    <tr>\n",
       "      <th>2</th>\n",
       "      <td>19.0</td>\n",
       "      <td>2.0</td>\n",
       "      <td>3294.0</td>\n",
       "      <td>661</td>\n",
       "    </tr>\n",
       "    <tr>\n",
       "      <th>3</th>\n",
       "      <td>74.0</td>\n",
       "      <td>4.0</td>\n",
       "      <td>9743.0</td>\n",
       "      <td>1107</td>\n",
       "    </tr>\n",
       "  </tbody>\n",
       "</table>\n",
       "</div>"
      ],
      "text/plain": [
       "        Recency Frequency  Monetory      \n",
       "           mean      mean      mean count\n",
       "Cluster                                  \n",
       "0         182.0       1.0    2149.0  1353\n",
       "1          12.0      12.0  147897.0   691\n",
       "2          19.0       2.0    3294.0   661\n",
       "3          74.0       4.0    9743.0  1107"
      ]
     },
     "execution_count": 103,
     "metadata": {},
     "output_type": "execute_result"
    }
   ],
   "source": [
    "rfm_k4 = rfm_data.assign(Cluster = cluster_labels)\n",
    "rfm_k4.groupby(['Cluster']).agg({'Recency': 'mean','Frequency': 'mean','Monetory': ['mean','count']}).round(0)"
   ]
  },
  {
   "cell_type": "code",
   "execution_count": 104,
   "metadata": {},
   "outputs": [],
   "source": [
    "preds=pd.DataFrame(y_kmeans)"
   ]
  },
  {
   "cell_type": "code",
   "execution_count": 105,
   "metadata": {},
   "outputs": [
    {
     "data": {
      "text/plain": [
       "0    1353\n",
       "3    1107\n",
       "1     691\n",
       "2     661\n",
       "Name: 0, dtype: int64"
      ]
     },
     "execution_count": 105,
     "metadata": {},
     "output_type": "execute_result"
    }
   ],
   "source": [
    "preds[0].value_counts()"
   ]
  },
  {
   "cell_type": "code",
   "execution_count": 106,
   "metadata": {
    "scrolled": true
   },
   "outputs": [
    {
     "data": {
      "text/plain": [
       "Text(0.5, 1.0, 'Clusters of Customers')"
      ]
     },
     "execution_count": 106,
     "metadata": {},
     "output_type": "execute_result"
    },
    {
     "data": {
      "image/png": "[encoded data removed]",
      "text/plain": [
       "<Figure size 432x288 with 1 Axes>"
      ]
     },
     "metadata": {
      "needs_background": "light"
     },
     "output_type": "display_data"
    }
   ],
   "source": [
    "#otherway of plotting\n",
    "plt.scatter(X[y_kmeans==0, 0], X[y_kmeans==0, 1], s=100, c='red', label ='Cluster 1')\n",
    "plt.scatter(X[y_kmeans==1, 0], X[y_kmeans==1, 1], s=100, c='blue', label ='Cluster 2')\n",
    "plt.scatter(X[y_kmeans==2, 0], X[y_kmeans==2, 1], s=100, c='green', label ='Cluster 3')\n",
    "plt.scatter(X[y_kmeans==3, 0], X[y_kmeans==3, 1], s=100, c='cyan', label ='Cluster 4')\n",
    "plt.scatter(kmeans1.cluster_centers_[:, 0], kmeans1.cluster_centers_[:, 1], s=300, c='yellow', label = 'Centroids')\n",
    "plt.title('Clusters of Customers')"
   ]
  },
  {
   "cell_type": "markdown",
   "metadata": {},
   "source": [
    "# Result:"
   ]
  },
  {
   "cell_type": "code",
   "execution_count": 107,
   "metadata": {},
   "outputs": [
    {
     "data": {
      "image/png": "[encoded data removed]",
      "text/plain": [
       "<Figure size 1080x720 with 1 Axes>"
      ]
     },
     "metadata": {
      "needs_background": "light"
     },
     "output_type": "display_data"
    }
   ],
   "source": [
    "#3d view \n",
    "from mpl_toolkits.mplot3d import Axes3D\n",
    "fig = plt.figure(figsize=(15,10))\n",
    "ax = fig.add_subplot(111, projection='3d')\n",
    "ax.scatter(X[:,0],X[:,1],X[:,2], marker=\"s\", c=y_kmeans, s=40, cmap=\"rainbow\")\n",
    "plt.show()"
   ]
  },
  {
   "cell_type": "code",
   "execution_count": 108,
   "metadata": {},
   "outputs": [
    {
     "data": {
      "text/plain": [
       "0    1\n",
       "1    1\n",
       "2    1\n",
       "3    1\n",
       "4    0\n",
       "Name: 0, dtype: int32"
      ]
     },
     "execution_count": 108,
     "metadata": {},
     "output_type": "execute_result"
    }
   ],
   "source": [
    "#userIds into clusters\n",
    "preds[0].head()"
   ]
  },
  {
   "cell_type": "code",
   "execution_count": 109,
   "metadata": {},
   "outputs": [
    {
     "data": {
      "text/plain": [
       "0    1353\n",
       "3    1107\n",
       "1     691\n",
       "2     661\n",
       "Name: 0, dtype: int64"
      ]
     },
     "execution_count": 109,
     "metadata": {},
     "output_type": "execute_result"
    }
   ],
   "source": [
    "preds[0].value_counts()"
   ]
  },
  {
   "cell_type": "code",
   "execution_count": 112,
   "metadata": {},
   "outputs": [],
   "source": [
    "RFM_table['clusters']=y_kmeans"
   ]
  },
  {
   "cell_type": "code",
   "execution_count": 113,
   "metadata": {},
   "outputs": [
    {
     "data": {
      "text/html": [
       "<div>\n",
       "<style scoped>\n",
       "    .dataframe tbody tr th:only-of-type {\n",
       "        vertical-align: middle;\n",
       "    }\n",
       "\n",
       "    .dataframe tbody tr th {\n",
       "        vertical-align: top;\n",
       "    }\n",
       "\n",
       "    .dataframe thead th {\n",
       "        text-align: right;\n",
       "    }\n",
       "</style>\n",
       "<table border=\"1\" class=\"dataframe\">\n",
       "  <thead>\n",
       "    <tr style=\"text-align: right;\">\n",
       "      <th></th>\n",
       "      <th>Recency</th>\n",
       "      <th>Frequency</th>\n",
       "      <th>Monetory</th>\n",
       "      <th>R</th>\n",
       "      <th>F</th>\n",
       "      <th>M</th>\n",
       "      <th>RFM Score</th>\n",
       "      <th>Segment</th>\n",
       "      <th>clusters</th>\n",
       "    </tr>\n",
       "    <tr>\n",
       "      <th>UserId</th>\n",
       "      <th></th>\n",
       "      <th></th>\n",
       "      <th></th>\n",
       "      <th></th>\n",
       "      <th></th>\n",
       "      <th></th>\n",
       "      <th></th>\n",
       "      <th></th>\n",
       "      <th></th>\n",
       "    </tr>\n",
       "  </thead>\n",
       "  <tbody>\n",
       "    <tr>\n",
       "      <th>267687</th>\n",
       "      <td>2</td>\n",
       "      <td>11</td>\n",
       "      <td>25484.82</td>\n",
       "      <td>5</td>\n",
       "      <td>5</td>\n",
       "      <td>5</td>\n",
       "      <td>555</td>\n",
       "      <td>champions</td>\n",
       "      <td>1</td>\n",
       "    </tr>\n",
       "    <tr>\n",
       "      <th>267708</th>\n",
       "      <td>1</td>\n",
       "      <td>199</td>\n",
       "      <td>202911.78</td>\n",
       "      <td>5</td>\n",
       "      <td>5</td>\n",
       "      <td>5</td>\n",
       "      <td>555</td>\n",
       "      <td>champions</td>\n",
       "      <td>1</td>\n",
       "    </tr>\n",
       "    <tr>\n",
       "      <th>267729</th>\n",
       "      <td>4</td>\n",
       "      <td>5</td>\n",
       "      <td>33435.00</td>\n",
       "      <td>5</td>\n",
       "      <td>4</td>\n",
       "      <td>5</td>\n",
       "      <td>545</td>\n",
       "      <td>champions</td>\n",
       "      <td>1</td>\n",
       "    </tr>\n",
       "    <tr>\n",
       "      <th>269220</th>\n",
       "      <td>3</td>\n",
       "      <td>4</td>\n",
       "      <td>7665.72</td>\n",
       "      <td>5</td>\n",
       "      <td>4</td>\n",
       "      <td>4</td>\n",
       "      <td>544</td>\n",
       "      <td>champions</td>\n",
       "      <td>1</td>\n",
       "    </tr>\n",
       "    <tr>\n",
       "      <th>269241</th>\n",
       "      <td>214</td>\n",
       "      <td>1</td>\n",
       "      <td>769.56</td>\n",
       "      <td>1</td>\n",
       "      <td>1</td>\n",
       "      <td>1</td>\n",
       "      <td>111</td>\n",
       "      <td>hibernating</td>\n",
       "      <td>0</td>\n",
       "    </tr>\n",
       "  </tbody>\n",
       "</table>\n",
       "</div>"
      ],
      "text/plain": [
       "        Recency  Frequency   Monetory  R  F  M RFM Score      Segment  \\\n",
       "UserId                                                                  \n",
       "267687        2         11   25484.82  5  5  5       555    champions   \n",
       "267708        1        199  202911.78  5  5  5       555    champions   \n",
       "267729        4          5   33435.00  5  4  5       545    champions   \n",
       "269220        3          4    7665.72  5  4  4       544    champions   \n",
       "269241      214          1     769.56  1  1  1       111  hibernating   \n",
       "\n",
       "        clusters  \n",
       "UserId            \n",
       "267687         1  \n",
       "267708         1  \n",
       "267729         1  \n",
       "269220         1  \n",
       "269241         0  "
      ]
     },
     "execution_count": 113,
     "metadata": {},
     "output_type": "execute_result"
    }
   ],
   "source": [
    "RFM_table.head()"
   ]
  },
  {
   "cell_type": "code",
   "execution_count": 118,
   "metadata": {},
   "outputs": [],
   "source": []
  },
  {
   "cell_type": "code",
   "execution_count": null,
   "metadata": {},
   "outputs": [],
   "source": []
  }
 ],
 "metadata": {
  "kernelspec": {
   "display_name": "Python 3",
   "language": "python",
   "name": "python3"
  },
  "language_info": {
   "codemirror_mode": {
    "name": "ipython",
    "version": 3
   },
   "file_extension": ".py",
   "mimetype": "text/x-python",
   "name": "python",
   "nbconvert_exporter": "python",
   "pygments_lexer": "ipython3",
   "version": "3.7.4"
  }
 },
 "nbformat": 4,
 "nbformat_minor": 4
}
